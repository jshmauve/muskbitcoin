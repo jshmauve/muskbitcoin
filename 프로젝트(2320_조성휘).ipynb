{
  "nbformat": 4,
  "nbformat_minor": 0,
  "metadata": {
    "colab": {
      "name": "프로젝트(2320_조성휘).ipynb",
      "provenance": [],
      "collapsed_sections": [],
      "include_colab_link": true
    },
    "kernelspec": {
      "display_name": "Python 3",
      "language": "python",
      "name": "python3"
    },
    "language_info": {
      "codemirror_mode": {
        "name": "ipython",
        "version": 3
      },
      "file_extension": ".py",
      "mimetype": "text/x-python",
      "name": "python",
      "nbconvert_exporter": "python",
      "pygments_lexer": "ipython3",
      "version": "3.8.5"
    }
  },
  "cells": [
    {
      "cell_type": "markdown",
      "metadata": {
        "id": "view-in-github",
        "colab_type": "text"
      },
      "source": [
        "<a href=\"https://colab.research.google.com/github/jshmauve/muskbitcoin/blob/main/%ED%94%84%EB%A1%9C%EC%A0%9D%ED%8A%B8(2320_%EC%A1%B0%EC%84%B1%ED%9C%98).ipynb\" target=\"_parent\"><img src=\"https://colab.research.google.com/assets/colab-badge.svg\" alt=\"Open In Colab\"/></a>"
      ]
    },
    {
      "cell_type": "markdown",
      "metadata": {
        "id": "WvBOmZRcGSth"
      },
      "source": [
        "# 프로젝트 이름\n",
        "- 학번 : 2320\n",
        "- 이름 : 조성휘\n",
        "\n",
        "## 1. 주제\n",
        "- 질문 : 일론 머스크의 비트코인 관련 트윗은 비트코인과 테슬라 주가에 영향을 미쳤을까?\n",
        "\n",
        "## 2. 데이터 수집\n",
        "- 데이터 수집 사이트\n",
        "\n",
        "비트코인 가격 : https://www.kaggle.com/mczielinski/bitcoin-historical-data\n",
        "\n",
        "도지코인 가격 : https://www.kaggle.com/dhruvildave/dogecoin-historical-data\n",
        "\n",
        "테슬라 주가 : https://www.nasdaq.com/market-activity/stocks/tsla/historical\n",
        "\n",
        "일론 머스크 트윗 모음 : https://www.kaggle.com/andradaolteanu/all-elon-musks-tweets?select=TweetsElonMusk.csv\n",
        "\n",
        "- 데이터 파일명 \n",
        "\n",
        "비트코인 가격 : bitcoin_2320조성휘.csv\n",
        "\n",
        "도지코인 가격 : dogecoin_2320조성휘.csv\n",
        "\n",
        "테슬라 주가 : tesla_2320조성휘.csv\n",
        "\n",
        "일론 머스크 트윗 모음 : musk_tweet_2320조성휘.csv"
      ]
    },
    {
      "cell_type": "code",
      "metadata": {
        "id": "x_ojcNxq6Rpa",
        "colab": {
          "base_uri": "https://localhost:8080/"
        },
        "outputId": "0114aa26-cff1-4075-e977-e09df331081b"
      },
      "source": [
        "# 드라이브 마운트하기\n",
        "from google.colab import drive\n",
        "drive.mount('/content/drive')"
      ],
      "execution_count": null,
      "outputs": [
        {
          "output_type": "stream",
          "text": [
            "Drive already mounted at /content/drive; to attempt to forcibly remount, call drive.mount(\"/content/drive\", force_remount=True).\n"
          ],
          "name": "stdout"
        }
      ]
    },
    {
      "cell_type": "code",
      "metadata": {
        "id": "BA1_t_EfIySr"
      },
      "source": [
        "from matplotlib import pyplot as plt"
      ],
      "execution_count": null,
      "outputs": []
    },
    {
      "cell_type": "code",
      "metadata": {
        "colab": {
          "base_uri": "https://localhost:8080/"
        },
        "id": "zxS4ItoXIxcH",
        "outputId": "11100086-6d54-4b34-aa6c-b04ca48e2f69"
      },
      "source": [
        "# 구글 코랩 한글폰트 설치\n",
        "\n",
        "import matplotlib as mpl\n",
        "!apt -qq -y install fonts-nanum #한글 폰트 설치\n",
        "\n",
        "# 해당 폰트가 기본폰트가 되도록 설정\n",
        "import matplotlib.font_manager as fm\n",
        "fontpath = '/usr/share/fonts/truetype/nanum/NanumBarunGothic.ttf' # 한글 폰트 경로 설정\n",
        "font = fm.FontProperties(fname=fontpath, size=9)   \n",
        "plt.rc('font', family='NanumBarunGothic') # 코랩의 한글 폰트를 '나눔바른고딕'으로 설정\n",
        "\n",
        "mpl.font_manager._rebuild() # 폰트 설정 관련 리빌드\n",
        "\n",
        "# 이후 메뉴 - [런타임]-[런타임 다시 시작] 후 재실행"
      ],
      "execution_count": null,
      "outputs": [
        {
          "output_type": "stream",
          "text": [
            "fonts-nanum is already the newest version (20170925-1).\n",
            "0 upgraded, 0 newly installed, 0 to remove and 39 not upgraded.\n"
          ],
          "name": "stdout"
        }
      ]
    },
    {
      "cell_type": "code",
      "metadata": {
        "id": "nN1g_hypGStp"
      },
      "source": [
        "# 데이터 가져오기\n",
        "path1 = '/content/drive/MyDrive/미래 수업/프로젝트/bitcoin_2320조성휘.csv'\n",
        "path2 = '/content/drive/MyDrive/미래 수업/프로젝트/dogecoin_2320조성휘.csv'\n",
        "path3 = '/content/drive/MyDrive/미래 수업/프로젝트/tesla_2320조성휘.csv'\n",
        "path4 = '/content/drive/MyDrive/미래 수업/프로젝트/musk_tweet_2320조성휘.csv'"
      ],
      "execution_count": null,
      "outputs": []
    },
    {
      "cell_type": "markdown",
      "metadata": {
        "id": "do07qh3PGStq"
      },
      "source": [
        "## 3. 탐색적 데이터 분석 과정\n",
        "\n",
        "#### 표를 활용하여 분석하기 - Pandas, Numpy 등 활용\n"
      ]
    },
    {
      "cell_type": "markdown",
      "metadata": {
        "id": "4GzgAMkWGStq"
      },
      "source": [
        "#### 데이터 전처리\n",
        "- 전처리 내용 기재, 엑셀파일을 사용했을 경우에도 내용 기재"
      ]
    },
    {
      "cell_type": "code",
      "metadata": {
        "id": "8pNX6e3M2c9A"
      },
      "source": [
        "import pandas as pd\n",
        "bc = pd.read_csv(path1)\n",
        "dc = pd.read_csv(path2)\n",
        "tsla = pd.read_csv(path3)\n",
        "musk = pd.read_csv(path4)"
      ],
      "execution_count": null,
      "outputs": []
    },
    {
      "cell_type": "markdown",
      "metadata": {
        "id": "hKwrtLDdq-QY"
      },
      "source": [
        "비트코인 데이터는 시간이 유닉스 시간으로 되어 있어서 표준시로 변환해 주었다."
      ]
    },
    {
      "cell_type": "code",
      "metadata": {
        "id": "pnr23UXzwlLD"
      },
      "source": [
        "import datetime as dt\n",
        "bc['Date'] = pd.to_datetime(bc['Timestamp'], unit = 's').dt.date\n",
        "bc['Time'] = pd.to_datetime(bc['Timestamp'], unit = 's').dt.time"
      ],
      "execution_count": null,
      "outputs": []
    },
    {
      "cell_type": "code",
      "metadata": {
        "colab": {
          "base_uri": "https://localhost:8080/",
          "height": 203
        },
        "id": "hCxG5qsLyJZ0",
        "outputId": "2530a2f0-fe18-4bf8-fcdb-e9d44b2bc89d"
      },
      "source": [
        "# 2020년 1월 1일 이후, 자정의 비트코인 데이터 생성\n",
        "bc_aftr_2020 = bc[(bc[\"Date\"] >= dt.date(2020,1,1)) & (bc[\"Time\"] == dt.time(00,00,00))]\n",
        "bc_aftr_2020.head()"
      ],
      "execution_count": null,
      "outputs": [
        {
          "output_type": "execute_result",
          "data": {
            "text/html": [
              "<div>\n",
              "<style scoped>\n",
              "    .dataframe tbody tr th:only-of-type {\n",
              "        vertical-align: middle;\n",
              "    }\n",
              "\n",
              "    .dataframe tbody tr th {\n",
              "        vertical-align: top;\n",
              "    }\n",
              "\n",
              "    .dataframe thead th {\n",
              "        text-align: right;\n",
              "    }\n",
              "</style>\n",
              "<table border=\"1\" class=\"dataframe\">\n",
              "  <thead>\n",
              "    <tr style=\"text-align: right;\">\n",
              "      <th></th>\n",
              "      <th>Timestamp</th>\n",
              "      <th>Open</th>\n",
              "      <th>High</th>\n",
              "      <th>Low</th>\n",
              "      <th>Close</th>\n",
              "      <th>Volume_(BTC)</th>\n",
              "      <th>Volume_(Currency)</th>\n",
              "      <th>Weighted_Price</th>\n",
              "      <th>Date</th>\n",
              "      <th>Time</th>\n",
              "    </tr>\n",
              "  </thead>\n",
              "  <tbody>\n",
              "    <tr>\n",
              "      <th>4202176</th>\n",
              "      <td>1577836800</td>\n",
              "      <td>7160.69</td>\n",
              "      <td>7160.69</td>\n",
              "      <td>7159.64</td>\n",
              "      <td>7159.64</td>\n",
              "      <td>5.501691</td>\n",
              "      <td>39392.484606</td>\n",
              "      <td>7160.068520</td>\n",
              "      <td>2020-01-01</td>\n",
              "      <td>00:00:00</td>\n",
              "    </tr>\n",
              "    <tr>\n",
              "      <th>4203616</th>\n",
              "      <td>1577923200</td>\n",
              "      <td>7174.70</td>\n",
              "      <td>7176.23</td>\n",
              "      <td>7170.00</td>\n",
              "      <td>7176.23</td>\n",
              "      <td>1.103224</td>\n",
              "      <td>7912.044837</td>\n",
              "      <td>7171.747382</td>\n",
              "      <td>2020-01-02</td>\n",
              "      <td>00:00:00</td>\n",
              "    </tr>\n",
              "    <tr>\n",
              "      <th>4205056</th>\n",
              "      <td>1578009600</td>\n",
              "      <td>6945.70</td>\n",
              "      <td>6946.56</td>\n",
              "      <td>6942.89</td>\n",
              "      <td>6946.56</td>\n",
              "      <td>31.785439</td>\n",
              "      <td>220770.512890</td>\n",
              "      <td>6945.649406</td>\n",
              "      <td>2020-01-03</td>\n",
              "      <td>00:00:00</td>\n",
              "    </tr>\n",
              "    <tr>\n",
              "      <th>4206496</th>\n",
              "      <td>1578096000</td>\n",
              "      <td>7332.58</td>\n",
              "      <td>7335.52</td>\n",
              "      <td>7332.58</td>\n",
              "      <td>7333.47</td>\n",
              "      <td>1.676197</td>\n",
              "      <td>12292.433962</td>\n",
              "      <td>7333.526291</td>\n",
              "      <td>2020-01-04</td>\n",
              "      <td>00:00:00</td>\n",
              "    </tr>\n",
              "    <tr>\n",
              "      <th>4207936</th>\n",
              "      <td>1578182400</td>\n",
              "      <td>7356.05</td>\n",
              "      <td>7356.05</td>\n",
              "      <td>7356.05</td>\n",
              "      <td>7356.05</td>\n",
              "      <td>0.004646</td>\n",
              "      <td>34.177238</td>\n",
              "      <td>7356.050000</td>\n",
              "      <td>2020-01-05</td>\n",
              "      <td>00:00:00</td>\n",
              "    </tr>\n",
              "  </tbody>\n",
              "</table>\n",
              "</div>"
            ],
            "text/plain": [
              "          Timestamp     Open     High  ...  Weighted_Price        Date      Time\n",
              "4202176  1577836800  7160.69  7160.69  ...     7160.068520  2020-01-01  00:00:00\n",
              "4203616  1577923200  7174.70  7176.23  ...     7171.747382  2020-01-02  00:00:00\n",
              "4205056  1578009600  6945.70  6946.56  ...     6945.649406  2020-01-03  00:00:00\n",
              "4206496  1578096000  7332.58  7335.52  ...     7333.526291  2020-01-04  00:00:00\n",
              "4207936  1578182400  7356.05  7356.05  ...     7356.050000  2020-01-05  00:00:00\n",
              "\n",
              "[5 rows x 10 columns]"
            ]
          },
          "metadata": {
            "tags": []
          },
          "execution_count": 7
        }
      ]
    },
    {
      "cell_type": "markdown",
      "metadata": {
        "id": "V0u4pnOSrElk"
      },
      "source": [
        "도지코인 데이터도 비트코인 데이터의 날짜와 type을 맞춰주기 위해 datetime 형태로 변환 했다."
      ]
    },
    {
      "cell_type": "code",
      "metadata": {
        "id": "CQnni1zVqcRL"
      },
      "source": [
        "dc['Date'] = pd.to_datetime(dc['Date']).dt.date"
      ],
      "execution_count": null,
      "outputs": []
    },
    {
      "cell_type": "code",
      "metadata": {
        "colab": {
          "base_uri": "https://localhost:8080/",
          "height": 203
        },
        "id": "j6UFkU-sy_6b",
        "outputId": "42176fbf-d760-4b74-9b86-4c953f433d68"
      },
      "source": [
        "# 2020년 1월 1일 이후 도지코인 가격 데이터 프레임 생성\n",
        "dc_aftr_2020 = dc[dc['Date'] >= dt.date(2020,1,1)].sort_values('Date')\n",
        "dc_aftr_2020.head()"
      ],
      "execution_count": null,
      "outputs": [
        {
          "output_type": "execute_result",
          "data": {
            "text/html": [
              "<div>\n",
              "<style scoped>\n",
              "    .dataframe tbody tr th:only-of-type {\n",
              "        vertical-align: middle;\n",
              "    }\n",
              "\n",
              "    .dataframe tbody tr th {\n",
              "        vertical-align: top;\n",
              "    }\n",
              "\n",
              "    .dataframe thead th {\n",
              "        text-align: right;\n",
              "    }\n",
              "</style>\n",
              "<table border=\"1\" class=\"dataframe\">\n",
              "  <thead>\n",
              "    <tr style=\"text-align: right;\">\n",
              "      <th></th>\n",
              "      <th>Date</th>\n",
              "      <th>Open</th>\n",
              "      <th>High</th>\n",
              "      <th>Low</th>\n",
              "      <th>Close</th>\n",
              "      <th>Adj Close</th>\n",
              "      <th>Volume</th>\n",
              "    </tr>\n",
              "  </thead>\n",
              "  <tbody>\n",
              "    <tr>\n",
              "      <th>1932</th>\n",
              "      <td>2020-01-01</td>\n",
              "      <td>0.002028</td>\n",
              "      <td>0.002052</td>\n",
              "      <td>0.002021</td>\n",
              "      <td>0.002033</td>\n",
              "      <td>0.002033</td>\n",
              "      <td>51180941.0</td>\n",
              "    </tr>\n",
              "    <tr>\n",
              "      <th>1933</th>\n",
              "      <td>2020-01-02</td>\n",
              "      <td>0.002034</td>\n",
              "      <td>0.002110</td>\n",
              "      <td>0.001983</td>\n",
              "      <td>0.002009</td>\n",
              "      <td>0.002009</td>\n",
              "      <td>65071106.0</td>\n",
              "    </tr>\n",
              "    <tr>\n",
              "      <th>1934</th>\n",
              "      <td>2020-01-03</td>\n",
              "      <td>0.002008</td>\n",
              "      <td>0.002177</td>\n",
              "      <td>0.001991</td>\n",
              "      <td>0.002145</td>\n",
              "      <td>0.002145</td>\n",
              "      <td>62619988.0</td>\n",
              "    </tr>\n",
              "    <tr>\n",
              "      <th>1935</th>\n",
              "      <td>2020-01-04</td>\n",
              "      <td>0.002144</td>\n",
              "      <td>0.002490</td>\n",
              "      <td>0.002050</td>\n",
              "      <td>0.002241</td>\n",
              "      <td>0.002241</td>\n",
              "      <td>94227582.0</td>\n",
              "    </tr>\n",
              "    <tr>\n",
              "      <th>1936</th>\n",
              "      <td>2020-01-05</td>\n",
              "      <td>0.002240</td>\n",
              "      <td>0.002491</td>\n",
              "      <td>0.002117</td>\n",
              "      <td>0.002419</td>\n",
              "      <td>0.002419</td>\n",
              "      <td>52631740.0</td>\n",
              "    </tr>\n",
              "  </tbody>\n",
              "</table>\n",
              "</div>"
            ],
            "text/plain": [
              "            Date      Open      High       Low     Close  Adj Close      Volume\n",
              "1932  2020-01-01  0.002028  0.002052  0.002021  0.002033   0.002033  51180941.0\n",
              "1933  2020-01-02  0.002034  0.002110  0.001983  0.002009   0.002009  65071106.0\n",
              "1934  2020-01-03  0.002008  0.002177  0.001991  0.002145   0.002145  62619988.0\n",
              "1935  2020-01-04  0.002144  0.002490  0.002050  0.002241   0.002241  94227582.0\n",
              "1936  2020-01-05  0.002240  0.002491  0.002117  0.002419   0.002419  52631740.0"
            ]
          },
          "metadata": {
            "tags": []
          },
          "execution_count": 9
        }
      ]
    },
    {
      "cell_type": "markdown",
      "metadata": {
        "id": "u7B7eNLdrfH6"
      },
      "source": [
        "마찬가지로 테슬라 데이터도 전처리 해주었다."
      ]
    },
    {
      "cell_type": "code",
      "metadata": {
        "colab": {
          "base_uri": "https://localhost:8080/"
        },
        "id": "2jPQ1OAxC7X2",
        "outputId": "a267b4ab-deef-4dfb-817a-7ccb7f7f83cb"
      },
      "source": [
        "tsla['Close/Last']"
      ],
      "execution_count": null,
      "outputs": [
        {
          "output_type": "execute_result",
          "data": {
            "text/plain": [
              "0       $620.83\n",
              "1       $623.31\n",
              "2        $616.6\n",
              "3       $604.87\n",
              "4       $599.36\n",
              "         ...   \n",
              "1253    $40.358\n",
              "1254     $39.71\n",
              "1255     $38.63\n",
              "1256     $39.28\n",
              "1257    $39.332\n",
              "Name: Close/Last, Length: 1258, dtype: object"
            ]
          },
          "metadata": {
            "tags": []
          },
          "execution_count": 10
        }
      ]
    },
    {
      "cell_type": "markdown",
      "metadata": {
        "id": "q03lsYtir2_G"
      },
      "source": [
        "위 코드에서 볼 수 있듯이 종가가 $ 표시와 함께 문자열 형태로 나와 있어서 실수꼴로 전처리를 해주었다."
      ]
    },
    {
      "cell_type": "code",
      "metadata": {
        "colab": {
          "base_uri": "https://localhost:8080/",
          "height": 417
        },
        "id": "CGv7EIGmCC4m",
        "outputId": "ecf5429c-f479-4e4a-c36d-62b70d05ee99"
      },
      "source": [
        "tsla['Close'] = tsla['Close/Last'].map(lambda x: x.split('$')[1].strip())\n",
        "tsla.astype({'Close':'float'})\n",
        "tsla"
      ],
      "execution_count": null,
      "outputs": [
        {
          "output_type": "execute_result",
          "data": {
            "text/html": [
              "<div>\n",
              "<style scoped>\n",
              "    .dataframe tbody tr th:only-of-type {\n",
              "        vertical-align: middle;\n",
              "    }\n",
              "\n",
              "    .dataframe tbody tr th {\n",
              "        vertical-align: top;\n",
              "    }\n",
              "\n",
              "    .dataframe thead th {\n",
              "        text-align: right;\n",
              "    }\n",
              "</style>\n",
              "<table border=\"1\" class=\"dataframe\">\n",
              "  <thead>\n",
              "    <tr style=\"text-align: right;\">\n",
              "      <th></th>\n",
              "      <th>Date</th>\n",
              "      <th>Close/Last</th>\n",
              "      <th>Volume</th>\n",
              "      <th>Open</th>\n",
              "      <th>High</th>\n",
              "      <th>Low</th>\n",
              "      <th>Close</th>\n",
              "    </tr>\n",
              "  </thead>\n",
              "  <tbody>\n",
              "    <tr>\n",
              "      <th>0</th>\n",
              "      <td>06/21/2021</td>\n",
              "      <td>$620.83</td>\n",
              "      <td>24812740</td>\n",
              "      <td>$624.48</td>\n",
              "      <td>$631.39</td>\n",
              "      <td>$608.88</td>\n",
              "      <td>620.83</td>\n",
              "    </tr>\n",
              "    <tr>\n",
              "      <th>1</th>\n",
              "      <td>06/18/2021</td>\n",
              "      <td>$623.31</td>\n",
              "      <td>24560910</td>\n",
              "      <td>$613.37</td>\n",
              "      <td>$628.35</td>\n",
              "      <td>$611.8</td>\n",
              "      <td>623.31</td>\n",
              "    </tr>\n",
              "    <tr>\n",
              "      <th>2</th>\n",
              "      <td>06/17/2021</td>\n",
              "      <td>$616.6</td>\n",
              "      <td>22701350</td>\n",
              "      <td>$601.888</td>\n",
              "      <td>$621.47</td>\n",
              "      <td>$601.34</td>\n",
              "      <td>616.6</td>\n",
              "    </tr>\n",
              "    <tr>\n",
              "      <th>3</th>\n",
              "      <td>06/16/2021</td>\n",
              "      <td>$604.87</td>\n",
              "      <td>22144130</td>\n",
              "      <td>$597.535</td>\n",
              "      <td>$608.5</td>\n",
              "      <td>$593.5</td>\n",
              "      <td>604.87</td>\n",
              "    </tr>\n",
              "    <tr>\n",
              "      <th>4</th>\n",
              "      <td>06/15/2021</td>\n",
              "      <td>$599.36</td>\n",
              "      <td>17764150</td>\n",
              "      <td>$616.69</td>\n",
              "      <td>$616.79</td>\n",
              "      <td>$598.23</td>\n",
              "      <td>599.36</td>\n",
              "    </tr>\n",
              "    <tr>\n",
              "      <th>...</th>\n",
              "      <td>...</td>\n",
              "      <td>...</td>\n",
              "      <td>...</td>\n",
              "      <td>...</td>\n",
              "      <td>...</td>\n",
              "      <td>...</td>\n",
              "      <td>...</td>\n",
              "    </tr>\n",
              "    <tr>\n",
              "      <th>1253</th>\n",
              "      <td>06/28/2016</td>\n",
              "      <td>$40.358</td>\n",
              "      <td>30794980</td>\n",
              "      <td>$40.378</td>\n",
              "      <td>$40.81</td>\n",
              "      <td>$39.882</td>\n",
              "      <td>40.358</td>\n",
              "    </tr>\n",
              "    <tr>\n",
              "      <th>1254</th>\n",
              "      <td>06/27/2016</td>\n",
              "      <td>$39.71</td>\n",
              "      <td>36059115</td>\n",
              "      <td>$38.172</td>\n",
              "      <td>$39.762</td>\n",
              "      <td>$37.574</td>\n",
              "      <td>39.71</td>\n",
              "    </tr>\n",
              "    <tr>\n",
              "      <th>1255</th>\n",
              "      <td>06/24/2016</td>\n",
              "      <td>$38.63</td>\n",
              "      <td>34944745</td>\n",
              "      <td>$38.01</td>\n",
              "      <td>$39.024</td>\n",
              "      <td>$37.946</td>\n",
              "      <td>38.63</td>\n",
              "    </tr>\n",
              "    <tr>\n",
              "      <th>1256</th>\n",
              "      <td>06/23/2016</td>\n",
              "      <td>$39.28</td>\n",
              "      <td>50490950</td>\n",
              "      <td>$39.138</td>\n",
              "      <td>$39.51</td>\n",
              "      <td>$38.426</td>\n",
              "      <td>39.28</td>\n",
              "    </tr>\n",
              "    <tr>\n",
              "      <th>1257</th>\n",
              "      <td>06/22/2016</td>\n",
              "      <td>$39.332</td>\n",
              "      <td>118530500</td>\n",
              "      <td>$39.894</td>\n",
              "      <td>$41.19</td>\n",
              "      <td>$39.15</td>\n",
              "      <td>39.332</td>\n",
              "    </tr>\n",
              "  </tbody>\n",
              "</table>\n",
              "<p>1258 rows × 7 columns</p>\n",
              "</div>"
            ],
            "text/plain": [
              "            Date Close/Last     Volume      Open     High      Low   Close\n",
              "0     06/21/2021    $620.83   24812740   $624.48  $631.39  $608.88  620.83\n",
              "1     06/18/2021    $623.31   24560910   $613.37  $628.35   $611.8  623.31\n",
              "2     06/17/2021     $616.6   22701350  $601.888  $621.47  $601.34   616.6\n",
              "3     06/16/2021    $604.87   22144130  $597.535   $608.5   $593.5  604.87\n",
              "4     06/15/2021    $599.36   17764150   $616.69  $616.79  $598.23  599.36\n",
              "...          ...        ...        ...       ...      ...      ...     ...\n",
              "1253  06/28/2016    $40.358   30794980   $40.378   $40.81  $39.882  40.358\n",
              "1254  06/27/2016     $39.71   36059115   $38.172  $39.762  $37.574   39.71\n",
              "1255  06/24/2016     $38.63   34944745    $38.01  $39.024  $37.946   38.63\n",
              "1256  06/23/2016     $39.28   50490950   $39.138   $39.51  $38.426   39.28\n",
              "1257  06/22/2016    $39.332  118530500   $39.894   $41.19   $39.15  39.332\n",
              "\n",
              "[1258 rows x 7 columns]"
            ]
          },
          "metadata": {
            "tags": []
          },
          "execution_count": 11
        }
      ]
    },
    {
      "cell_type": "code",
      "metadata": {
        "colab": {
          "base_uri": "https://localhost:8080/"
        },
        "id": "CTnclNhhs_4s",
        "outputId": "02f09ef7-2ef2-4f57-d9a6-81c30b45be5c"
      },
      "source": [
        "tsla['Date']"
      ],
      "execution_count": null,
      "outputs": [
        {
          "output_type": "execute_result",
          "data": {
            "text/plain": [
              "0       06/21/2021\n",
              "1       06/18/2021\n",
              "2       06/17/2021\n",
              "3       06/16/2021\n",
              "4       06/15/2021\n",
              "           ...    \n",
              "1253    06/28/2016\n",
              "1254    06/27/2016\n",
              "1255    06/24/2016\n",
              "1256    06/23/2016\n",
              "1257    06/22/2016\n",
              "Name: Date, Length: 1258, dtype: object"
            ]
          },
          "metadata": {
            "tags": []
          },
          "execution_count": 12
        }
      ]
    },
    {
      "cell_type": "markdown",
      "metadata": {
        "id": "KF7ZmpJFt69-"
      },
      "source": [
        "위에서 볼 수 있다 싶이 테슬라 데이터는 날짜가 달/일/년 으로 되어 있기 때문에 split 해서 형태를 맞춰 주었다."
      ]
    },
    {
      "cell_type": "code",
      "metadata": {
        "colab": {
          "base_uri": "https://localhost:8080/",
          "height": 203
        },
        "id": "NktDN24ya71B",
        "outputId": "25dae052-19cf-48f7-eef7-b1a23686813f"
      },
      "source": [
        "# 2020년 1월 1일 이후 테슬라 주식 데이터 프레임 생성\n",
        "tsla['Date'] = tsla['Date'].map(lambda x: x.split('/')[2].strip()) + '-' + tsla['Date'].map(lambda x: x.split('/')[0].strip()) + '-' +tsla['Date'].map(lambda x: x.split('/')[1].strip())\n",
        "tsla['Date'] = pd.to_datetime(tsla['Date']).dt.date\n",
        "tsla_aftr_2020 = tsla[tsla['Date'] >= dt.date(2020,1,1)].sort_values('Date')\n",
        "tsla_aftr_2020.head()"
      ],
      "execution_count": null,
      "outputs": [
        {
          "output_type": "execute_result",
          "data": {
            "text/html": [
              "<div>\n",
              "<style scoped>\n",
              "    .dataframe tbody tr th:only-of-type {\n",
              "        vertical-align: middle;\n",
              "    }\n",
              "\n",
              "    .dataframe tbody tr th {\n",
              "        vertical-align: top;\n",
              "    }\n",
              "\n",
              "    .dataframe thead th {\n",
              "        text-align: right;\n",
              "    }\n",
              "</style>\n",
              "<table border=\"1\" class=\"dataframe\">\n",
              "  <thead>\n",
              "    <tr style=\"text-align: right;\">\n",
              "      <th></th>\n",
              "      <th>Date</th>\n",
              "      <th>Close/Last</th>\n",
              "      <th>Volume</th>\n",
              "      <th>Open</th>\n",
              "      <th>High</th>\n",
              "      <th>Low</th>\n",
              "      <th>Close</th>\n",
              "    </tr>\n",
              "  </thead>\n",
              "  <tbody>\n",
              "    <tr>\n",
              "      <th>369</th>\n",
              "      <td>2020-01-02</td>\n",
              "      <td>$86.052</td>\n",
              "      <td>47791930</td>\n",
              "      <td>$84.9</td>\n",
              "      <td>$86.1391</td>\n",
              "      <td>$84.342</td>\n",
              "      <td>86.052</td>\n",
              "    </tr>\n",
              "    <tr>\n",
              "      <th>368</th>\n",
              "      <td>2020-01-03</td>\n",
              "      <td>$88.602</td>\n",
              "      <td>88973500</td>\n",
              "      <td>$88.1</td>\n",
              "      <td>$90.8</td>\n",
              "      <td>$87.384</td>\n",
              "      <td>88.602</td>\n",
              "    </tr>\n",
              "    <tr>\n",
              "      <th>367</th>\n",
              "      <td>2020-01-06</td>\n",
              "      <td>$90.308</td>\n",
              "      <td>50787500</td>\n",
              "      <td>$88.094</td>\n",
              "      <td>$90.312</td>\n",
              "      <td>$88</td>\n",
              "      <td>90.308</td>\n",
              "    </tr>\n",
              "    <tr>\n",
              "      <th>366</th>\n",
              "      <td>2020-01-07</td>\n",
              "      <td>$93.812</td>\n",
              "      <td>91045700</td>\n",
              "      <td>$92.28</td>\n",
              "      <td>$94.326</td>\n",
              "      <td>$90.671</td>\n",
              "      <td>93.812</td>\n",
              "    </tr>\n",
              "    <tr>\n",
              "      <th>365</th>\n",
              "      <td>2020-01-08</td>\n",
              "      <td>$98.428</td>\n",
              "      <td>155996950</td>\n",
              "      <td>$94.74</td>\n",
              "      <td>$99.698</td>\n",
              "      <td>$93.646</td>\n",
              "      <td>98.428</td>\n",
              "    </tr>\n",
              "  </tbody>\n",
              "</table>\n",
              "</div>"
            ],
            "text/plain": [
              "           Date Close/Last     Volume     Open      High      Low   Close\n",
              "369  2020-01-02    $86.052   47791930    $84.9  $86.1391  $84.342  86.052\n",
              "368  2020-01-03    $88.602   88973500    $88.1     $90.8  $87.384  88.602\n",
              "367  2020-01-06    $90.308   50787500  $88.094   $90.312      $88  90.308\n",
              "366  2020-01-07    $93.812   91045700   $92.28   $94.326  $90.671  93.812\n",
              "365  2020-01-08    $98.428  155996950   $94.74   $99.698  $93.646  98.428"
            ]
          },
          "metadata": {
            "tags": []
          },
          "execution_count": 13
        }
      ]
    },
    {
      "cell_type": "code",
      "metadata": {
        "colab": {
          "base_uri": "https://localhost:8080/",
          "height": 442
        },
        "id": "X6j6QWBKfo1l",
        "outputId": "656188d3-8031-420c-b387-0b487abbf1de"
      },
      "source": [
        "# 2020년 1월 1일 이후 일론 머스크 트윗 데이터 프레임 생성\n",
        "musk['Date'] = pd.to_datetime(musk['date']).dt.date\n",
        "musk = musk.drop('date', axis = 1)\n",
        "musk_aftr_2020 = musk[musk['Date'] >= dt.date(2020,1,1)].sort_values('Date') \n",
        "musk_aftr_2020.head()"
      ],
      "execution_count": null,
      "outputs": [
        {
          "output_type": "execute_result",
          "data": {
            "text/html": [
              "<div>\n",
              "<style scoped>\n",
              "    .dataframe tbody tr th:only-of-type {\n",
              "        vertical-align: middle;\n",
              "    }\n",
              "\n",
              "    .dataframe tbody tr th {\n",
              "        vertical-align: top;\n",
              "    }\n",
              "\n",
              "    .dataframe thead th {\n",
              "        text-align: right;\n",
              "    }\n",
              "</style>\n",
              "<table border=\"1\" class=\"dataframe\">\n",
              "  <thead>\n",
              "    <tr style=\"text-align: right;\">\n",
              "      <th></th>\n",
              "      <th>id</th>\n",
              "      <th>conversation_id</th>\n",
              "      <th>created_at</th>\n",
              "      <th>time</th>\n",
              "      <th>timezone</th>\n",
              "      <th>user_id</th>\n",
              "      <th>username</th>\n",
              "      <th>name</th>\n",
              "      <th>place</th>\n",
              "      <th>tweet</th>\n",
              "      <th>language</th>\n",
              "      <th>mentions</th>\n",
              "      <th>urls</th>\n",
              "      <th>photos</th>\n",
              "      <th>replies_count</th>\n",
              "      <th>retweets_count</th>\n",
              "      <th>likes_count</th>\n",
              "      <th>hashtags</th>\n",
              "      <th>cashtags</th>\n",
              "      <th>link</th>\n",
              "      <th>retweet</th>\n",
              "      <th>quote_url</th>\n",
              "      <th>video</th>\n",
              "      <th>thumbnail</th>\n",
              "      <th>near</th>\n",
              "      <th>geo</th>\n",
              "      <th>source</th>\n",
              "      <th>user_rt_id</th>\n",
              "      <th>user_rt</th>\n",
              "      <th>retweet_id</th>\n",
              "      <th>reply_to</th>\n",
              "      <th>retweet_date</th>\n",
              "      <th>translate</th>\n",
              "      <th>trans_src</th>\n",
              "      <th>trans_dest</th>\n",
              "      <th>Date</th>\n",
              "    </tr>\n",
              "  </thead>\n",
              "  <tbody>\n",
              "    <tr>\n",
              "      <th>4127</th>\n",
              "      <td>1212245306412167168</td>\n",
              "      <td>1212245306412167168</td>\n",
              "      <td>2020-01-01 07:32:58 EET</td>\n",
              "      <td>07:32:58</td>\n",
              "      <td>300</td>\n",
              "      <td>44196397</td>\n",
              "      <td>elonmusk</td>\n",
              "      <td>Elon Musk</td>\n",
              "      <td>NaN</td>\n",
              "      <td>Carlos Gone</td>\n",
              "      <td>es</td>\n",
              "      <td>[]</td>\n",
              "      <td>[]</td>\n",
              "      <td>[]</td>\n",
              "      <td>2930</td>\n",
              "      <td>16483</td>\n",
              "      <td>130216</td>\n",
              "      <td>[]</td>\n",
              "      <td>[]</td>\n",
              "      <td>https://twitter.com/elonmusk/status/1212245306...</td>\n",
              "      <td>False</td>\n",
              "      <td>NaN</td>\n",
              "      <td>0</td>\n",
              "      <td>NaN</td>\n",
              "      <td>NaN</td>\n",
              "      <td>NaN</td>\n",
              "      <td>NaN</td>\n",
              "      <td>NaN</td>\n",
              "      <td>NaN</td>\n",
              "      <td>NaN</td>\n",
              "      <td>[]</td>\n",
              "      <td>NaN</td>\n",
              "      <td>NaN</td>\n",
              "      <td>NaN</td>\n",
              "      <td>NaN</td>\n",
              "      <td>2020-01-01</td>\n",
              "    </tr>\n",
              "    <tr>\n",
              "      <th>4126</th>\n",
              "      <td>1212260614514630656</td>\n",
              "      <td>1212245306412167168</td>\n",
              "      <td>2020-01-01 08:33:47 EET</td>\n",
              "      <td>08:33:47</td>\n",
              "      <td>300</td>\n",
              "      <td>44196397</td>\n",
              "      <td>elonmusk</td>\n",
              "      <td>Elon Musk</td>\n",
              "      <td>NaN</td>\n",
              "      <td>No one suspected his disguise  https://t.co/yH...</td>\n",
              "      <td>en</td>\n",
              "      <td>[]</td>\n",
              "      <td>[]</td>\n",
              "      <td>['https://pbs.twimg.com/media/ENLQkiKXYAIAh-a....</td>\n",
              "      <td>687</td>\n",
              "      <td>4450</td>\n",
              "      <td>72441</td>\n",
              "      <td>[]</td>\n",
              "      <td>[]</td>\n",
              "      <td>https://twitter.com/elonmusk/status/1212260614...</td>\n",
              "      <td>False</td>\n",
              "      <td>NaN</td>\n",
              "      <td>1</td>\n",
              "      <td>https://pbs.twimg.com/media/ENLQkiKXYAIAh-a.jpg</td>\n",
              "      <td>NaN</td>\n",
              "      <td>NaN</td>\n",
              "      <td>NaN</td>\n",
              "      <td>NaN</td>\n",
              "      <td>NaN</td>\n",
              "      <td>NaN</td>\n",
              "      <td>[]</td>\n",
              "      <td>NaN</td>\n",
              "      <td>NaN</td>\n",
              "      <td>NaN</td>\n",
              "      <td>NaN</td>\n",
              "      <td>2020-01-01</td>\n",
              "    </tr>\n",
              "    <tr>\n",
              "      <th>4125</th>\n",
              "      <td>1212264717617639424</td>\n",
              "      <td>1212264717617639424</td>\n",
              "      <td>2020-01-01 08:50:06 EET</td>\n",
              "      <td>08:50:06</td>\n",
              "      <td>300</td>\n",
              "      <td>44196397</td>\n",
              "      <td>elonmusk</td>\n",
              "      <td>Elon Musk</td>\n",
              "      <td>NaN</td>\n",
              "      <td>Congratulations Tesla &amp;amp; SpaceX on great 20...</td>\n",
              "      <td>en</td>\n",
              "      <td>[]</td>\n",
              "      <td>[]</td>\n",
              "      <td>[]</td>\n",
              "      <td>1993</td>\n",
              "      <td>7344</td>\n",
              "      <td>156506</td>\n",
              "      <td>[]</td>\n",
              "      <td>[]</td>\n",
              "      <td>https://twitter.com/elonmusk/status/1212264717...</td>\n",
              "      <td>False</td>\n",
              "      <td>NaN</td>\n",
              "      <td>0</td>\n",
              "      <td>NaN</td>\n",
              "      <td>NaN</td>\n",
              "      <td>NaN</td>\n",
              "      <td>NaN</td>\n",
              "      <td>NaN</td>\n",
              "      <td>NaN</td>\n",
              "      <td>NaN</td>\n",
              "      <td>[]</td>\n",
              "      <td>NaN</td>\n",
              "      <td>NaN</td>\n",
              "      <td>NaN</td>\n",
              "      <td>NaN</td>\n",
              "      <td>2020-01-01</td>\n",
              "    </tr>\n",
              "    <tr>\n",
              "      <th>4124</th>\n",
              "      <td>1213300278960775168</td>\n",
              "      <td>1213178555674198017</td>\n",
              "      <td>2020-01-04 05:25:03 EET</td>\n",
              "      <td>05:25:03</td>\n",
              "      <td>300</td>\n",
              "      <td>44196397</td>\n",
              "      <td>elonmusk</td>\n",
              "      <td>Elon Musk</td>\n",
              "      <td>NaN</td>\n",
              "      <td>@slashdot Wow, I built my first server room wi...</td>\n",
              "      <td>en</td>\n",
              "      <td>[]</td>\n",
              "      <td>[]</td>\n",
              "      <td>[]</td>\n",
              "      <td>137</td>\n",
              "      <td>99</td>\n",
              "      <td>2324</td>\n",
              "      <td>[]</td>\n",
              "      <td>[]</td>\n",
              "      <td>https://twitter.com/elonmusk/status/1213300278...</td>\n",
              "      <td>False</td>\n",
              "      <td>NaN</td>\n",
              "      <td>0</td>\n",
              "      <td>NaN</td>\n",
              "      <td>NaN</td>\n",
              "      <td>NaN</td>\n",
              "      <td>NaN</td>\n",
              "      <td>NaN</td>\n",
              "      <td>NaN</td>\n",
              "      <td>NaN</td>\n",
              "      <td>[{'screen_name': 'slashdot', 'name': 'Slashdot...</td>\n",
              "      <td>NaN</td>\n",
              "      <td>NaN</td>\n",
              "      <td>NaN</td>\n",
              "      <td>NaN</td>\n",
              "      <td>2020-01-04</td>\n",
              "    </tr>\n",
              "    <tr>\n",
              "      <th>4123</th>\n",
              "      <td>1213302526239531008</td>\n",
              "      <td>1213299332872622081</td>\n",
              "      <td>2020-01-04 05:33:58 EET</td>\n",
              "      <td>05:33:58</td>\n",
              "      <td>300</td>\n",
              "      <td>44196397</td>\n",
              "      <td>elonmusk</td>\n",
              "      <td>Elon Musk</td>\n",
              "      <td>NaN</td>\n",
              "      <td>@hot_rod_co @Tesla People talk about the produ...</td>\n",
              "      <td>en</td>\n",
              "      <td>[]</td>\n",
              "      <td>[]</td>\n",
              "      <td>[]</td>\n",
              "      <td>285</td>\n",
              "      <td>320</td>\n",
              "      <td>6611</td>\n",
              "      <td>[]</td>\n",
              "      <td>[]</td>\n",
              "      <td>https://twitter.com/elonmusk/status/1213302526...</td>\n",
              "      <td>False</td>\n",
              "      <td>NaN</td>\n",
              "      <td>0</td>\n",
              "      <td>NaN</td>\n",
              "      <td>NaN</td>\n",
              "      <td>NaN</td>\n",
              "      <td>NaN</td>\n",
              "      <td>NaN</td>\n",
              "      <td>NaN</td>\n",
              "      <td>NaN</td>\n",
              "      <td>[{'screen_name': 'hot_rod_co', 'name': 'RS Tan...</td>\n",
              "      <td>NaN</td>\n",
              "      <td>NaN</td>\n",
              "      <td>NaN</td>\n",
              "      <td>NaN</td>\n",
              "      <td>2020-01-04</td>\n",
              "    </tr>\n",
              "  </tbody>\n",
              "</table>\n",
              "</div>"
            ],
            "text/plain": [
              "                       id      conversation_id  ... trans_dest        Date\n",
              "4127  1212245306412167168  1212245306412167168  ...        NaN  2020-01-01\n",
              "4126  1212260614514630656  1212245306412167168  ...        NaN  2020-01-01\n",
              "4125  1212264717617639424  1212264717617639424  ...        NaN  2020-01-01\n",
              "4124  1213300278960775168  1213178555674198017  ...        NaN  2020-01-04\n",
              "4123  1213302526239531008  1213299332872622081  ...        NaN  2020-01-04\n",
              "\n",
              "[5 rows x 36 columns]"
            ]
          },
          "metadata": {
            "tags": []
          },
          "execution_count": 14
        }
      ]
    },
    {
      "cell_type": "markdown",
      "metadata": {
        "id": "nlvwES99X27M"
      },
      "source": [
        "#### 데이터 분석\n",
        "- 분석별 결과 내용이 항상 있어야 함.\n",
        "- info, describe, isna.sum 제외하고 3개와 결과 내용"
      ]
    },
    {
      "cell_type": "code",
      "metadata": {
        "id": "3atD2c7z3Lyg",
        "colab": {
          "base_uri": "https://localhost:8080/"
        },
        "outputId": "0297ad86-7573-4164-cb84-264887463f09"
      },
      "source": [
        "bc_aftr_2020.info()"
      ],
      "execution_count": null,
      "outputs": [
        {
          "output_type": "stream",
          "text": [
            "<class 'pandas.core.frame.DataFrame'>\n",
            "Int64Index: 456 entries, 4202176 to 4857376\n",
            "Data columns (total 10 columns):\n",
            " #   Column             Non-Null Count  Dtype  \n",
            "---  ------             --------------  -----  \n",
            " 0   Timestamp          456 non-null    int64  \n",
            " 1   Open               449 non-null    float64\n",
            " 2   High               449 non-null    float64\n",
            " 3   Low                449 non-null    float64\n",
            " 4   Close              449 non-null    float64\n",
            " 5   Volume_(BTC)       449 non-null    float64\n",
            " 6   Volume_(Currency)  449 non-null    float64\n",
            " 7   Weighted_Price     449 non-null    float64\n",
            " 8   Date               456 non-null    object \n",
            " 9   Time               456 non-null    object \n",
            "dtypes: float64(7), int64(1), object(2)\n",
            "memory usage: 39.2+ KB\n"
          ],
          "name": "stdout"
        }
      ]
    },
    {
      "cell_type": "markdown",
      "metadata": {
        "id": "YGaTj2Yavs2b"
      },
      "source": [
        "- 시간은 정수 형태로 주어진다.\n",
        "- 시가, 고가, 저가, 종가는 실수 형태로 주어진다.\n",
        "- 가격은 Close를 사용하였다.\n",
        "- 대부분의 데이터가 채워져 있음을 알 수 있다."
      ]
    },
    {
      "cell_type": "code",
      "metadata": {
        "colab": {
          "base_uri": "https://localhost:8080/"
        },
        "id": "ULpcpNmdKtfv",
        "outputId": "cab90927-1fe2-4c91-8a50-c07c26068035"
      },
      "source": [
        "dc_aftr_2020.info()"
      ],
      "execution_count": null,
      "outputs": [
        {
          "output_type": "stream",
          "text": [
            "<class 'pandas.core.frame.DataFrame'>\n",
            "Int64Index: 535 entries, 1932 to 2466\n",
            "Data columns (total 7 columns):\n",
            " #   Column     Non-Null Count  Dtype  \n",
            "---  ------     --------------  -----  \n",
            " 0   Date       535 non-null    object \n",
            " 1   Open       530 non-null    float64\n",
            " 2   High       530 non-null    float64\n",
            " 3   Low        530 non-null    float64\n",
            " 4   Close      530 non-null    float64\n",
            " 5   Adj Close  530 non-null    float64\n",
            " 6   Volume     530 non-null    float64\n",
            "dtypes: float64(6), object(1)\n",
            "memory usage: 33.4+ KB\n"
          ],
          "name": "stdout"
        }
      ]
    },
    {
      "cell_type": "markdown",
      "metadata": {
        "id": "OW-Jscx73yU0"
      },
      "source": [
        "- 시간은 문자열 형태로 주어진다.\n",
        "- 가격은 Close를 사용하였다.\n",
        "- 5개를 제외한 모든 데이터가 채워져 있다."
      ]
    },
    {
      "cell_type": "code",
      "metadata": {
        "colab": {
          "base_uri": "https://localhost:8080/"
        },
        "id": "XqiyMnGgKwHO",
        "outputId": "8f4596fc-be44-4494-d93c-1dfc62632195"
      },
      "source": [
        "tsla_aftr_2020.info()"
      ],
      "execution_count": null,
      "outputs": [
        {
          "output_type": "stream",
          "text": [
            "<class 'pandas.core.frame.DataFrame'>\n",
            "Int64Index: 370 entries, 369 to 0\n",
            "Data columns (total 7 columns):\n",
            " #   Column      Non-Null Count  Dtype \n",
            "---  ------      --------------  ----- \n",
            " 0   Date        370 non-null    object\n",
            " 1   Close/Last  370 non-null    object\n",
            " 2   Volume      370 non-null    int64 \n",
            " 3   Open        370 non-null    object\n",
            " 4   High        370 non-null    object\n",
            " 5   Low         370 non-null    object\n",
            " 6   Close       370 non-null    object\n",
            "dtypes: int64(1), object(6)\n",
            "memory usage: 23.1+ KB\n"
          ],
          "name": "stdout"
        }
      ]
    },
    {
      "cell_type": "markdown",
      "metadata": {
        "id": "stbEQ3uC9vmE"
      },
      "source": [
        "- 시간과 시가, 종가가 문자열 형태로 주어진다.\n",
        "- 모든 데이터가 채워져 있다."
      ]
    },
    {
      "cell_type": "code",
      "metadata": {
        "colab": {
          "base_uri": "https://localhost:8080/"
        },
        "id": "9ppIkQeNKyLN",
        "outputId": "6c06ce7c-1e78-4d2a-fc5d-d6aa6df21c36"
      },
      "source": [
        "musk_aftr_2020.info()"
      ],
      "execution_count": null,
      "outputs": [
        {
          "output_type": "stream",
          "text": [
            "<class 'pandas.core.frame.DataFrame'>\n",
            "Int64Index: 4175 entries, 4127 to 12516\n",
            "Data columns (total 36 columns):\n",
            " #   Column           Non-Null Count  Dtype  \n",
            "---  ------           --------------  -----  \n",
            " 0   id               4175 non-null   int64  \n",
            " 1   conversation_id  4175 non-null   int64  \n",
            " 2   created_at       4175 non-null   object \n",
            " 3   time             4175 non-null   object \n",
            " 4   timezone         4175 non-null   int64  \n",
            " 5   user_id          4175 non-null   int64  \n",
            " 6   username         4175 non-null   object \n",
            " 7   name             4175 non-null   object \n",
            " 8   place            0 non-null      float64\n",
            " 9   tweet            4175 non-null   object \n",
            " 10  language         4175 non-null   object \n",
            " 11  mentions         4175 non-null   object \n",
            " 12  urls             4175 non-null   object \n",
            " 13  photos           4175 non-null   object \n",
            " 14  replies_count    4175 non-null   int64  \n",
            " 15  retweets_count   4175 non-null   int64  \n",
            " 16  likes_count      4175 non-null   int64  \n",
            " 17  hashtags         4175 non-null   object \n",
            " 18  cashtags         4175 non-null   object \n",
            " 19  link             4175 non-null   object \n",
            " 20  retweet          4175 non-null   bool   \n",
            " 21  quote_url        87 non-null     object \n",
            " 22  video            4175 non-null   int64  \n",
            " 23  thumbnail        278 non-null    object \n",
            " 24  near             0 non-null      float64\n",
            " 25  geo              0 non-null      float64\n",
            " 26  source           0 non-null      float64\n",
            " 27  user_rt_id       0 non-null      float64\n",
            " 28  user_rt          0 non-null      float64\n",
            " 29  retweet_id       0 non-null      float64\n",
            " 30  reply_to         4175 non-null   object \n",
            " 31  retweet_date     0 non-null      float64\n",
            " 32  translate        0 non-null      float64\n",
            " 33  trans_src        0 non-null      float64\n",
            " 34  trans_dest       0 non-null      float64\n",
            " 35  Date             4175 non-null   object \n",
            "dtypes: bool(1), float64(11), int64(8), object(16)\n",
            "memory usage: 1.2+ MB\n"
          ],
          "name": "stdout"
        }
      ]
    },
    {
      "cell_type": "markdown",
      "metadata": {
        "id": "Q02dvRnL9zXD"
      },
      "source": [
        "- 9, 25, 26, 27, 28, 29, 30, 32, 33, 34, 34번 행이 모두 비어 있다.\n",
        "- 트윗 내용은 문자열로 되어 있다."
      ]
    },
    {
      "cell_type": "code",
      "metadata": {
        "colab": {
          "base_uri": "https://localhost:8080/",
          "height": 295
        },
        "id": "oXXkeDF3K7CY",
        "outputId": "86c7e0f9-6cee-4e78-c399-c137431a3341"
      },
      "source": [
        "bc_aftr_2020.describe()"
      ],
      "execution_count": null,
      "outputs": [
        {
          "output_type": "execute_result",
          "data": {
            "text/html": [
              "<div>\n",
              "<style scoped>\n",
              "    .dataframe tbody tr th:only-of-type {\n",
              "        vertical-align: middle;\n",
              "    }\n",
              "\n",
              "    .dataframe tbody tr th {\n",
              "        vertical-align: top;\n",
              "    }\n",
              "\n",
              "    .dataframe thead th {\n",
              "        text-align: right;\n",
              "    }\n",
              "</style>\n",
              "<table border=\"1\" class=\"dataframe\">\n",
              "  <thead>\n",
              "    <tr style=\"text-align: right;\">\n",
              "      <th></th>\n",
              "      <th>Timestamp</th>\n",
              "      <th>Open</th>\n",
              "      <th>High</th>\n",
              "      <th>Low</th>\n",
              "      <th>Close</th>\n",
              "      <th>Volume_(BTC)</th>\n",
              "      <th>Volume_(Currency)</th>\n",
              "      <th>Weighted_Price</th>\n",
              "    </tr>\n",
              "  </thead>\n",
              "  <tbody>\n",
              "    <tr>\n",
              "      <th>count</th>\n",
              "      <td>4.560000e+02</td>\n",
              "      <td>449.000000</td>\n",
              "      <td>449.000000</td>\n",
              "      <td>449.000000</td>\n",
              "      <td>449.000000</td>\n",
              "      <td>449.000000</td>\n",
              "      <td>4.490000e+02</td>\n",
              "      <td>449.000000</td>\n",
              "    </tr>\n",
              "    <tr>\n",
              "      <th>mean</th>\n",
              "      <td>1.597493e+09</td>\n",
              "      <td>17863.031292</td>\n",
              "      <td>17885.688641</td>\n",
              "      <td>17847.042004</td>\n",
              "      <td>17868.478085</td>\n",
              "      <td>9.947341</td>\n",
              "      <td>1.615963e+05</td>\n",
              "      <td>17865.541570</td>\n",
              "    </tr>\n",
              "    <tr>\n",
              "      <th>std</th>\n",
              "      <td>1.138580e+07</td>\n",
              "      <td>14727.912870</td>\n",
              "      <td>14754.156640</td>\n",
              "      <td>14711.755745</td>\n",
              "      <td>14736.325455</td>\n",
              "      <td>21.707115</td>\n",
              "      <td>3.698892e+05</td>\n",
              "      <td>14731.930685</td>\n",
              "    </tr>\n",
              "    <tr>\n",
              "      <th>min</th>\n",
              "      <td>1.577837e+09</td>\n",
              "      <td>4841.670000</td>\n",
              "      <td>4981.110000</td>\n",
              "      <td>4830.670000</td>\n",
              "      <td>4900.860000</td>\n",
              "      <td>0.003333</td>\n",
              "      <td>3.417724e+01</td>\n",
              "      <td>4875.340731</td>\n",
              "    </tr>\n",
              "    <tr>\n",
              "      <th>25%</th>\n",
              "      <td>1.587665e+09</td>\n",
              "      <td>9154.100000</td>\n",
              "      <td>9161.770000</td>\n",
              "      <td>9150.510000</td>\n",
              "      <td>9150.510000</td>\n",
              "      <td>0.770004</td>\n",
              "      <td>9.010097e+03</td>\n",
              "      <td>9150.510000</td>\n",
              "    </tr>\n",
              "    <tr>\n",
              "      <th>50%</th>\n",
              "      <td>1.597493e+09</td>\n",
              "      <td>10669.100000</td>\n",
              "      <td>10671.810000</td>\n",
              "      <td>10667.160000</td>\n",
              "      <td>10670.220000</td>\n",
              "      <td>2.936830</td>\n",
              "      <td>4.783278e+04</td>\n",
              "      <td>10670.492690</td>\n",
              "    </tr>\n",
              "    <tr>\n",
              "      <th>75%</th>\n",
              "      <td>1.607321e+09</td>\n",
              "      <td>19175.130000</td>\n",
              "      <td>19175.130000</td>\n",
              "      <td>19160.660000</td>\n",
              "      <td>19171.550000</td>\n",
              "      <td>9.153340</td>\n",
              "      <td>1.451647e+05</td>\n",
              "      <td>19162.036463</td>\n",
              "    </tr>\n",
              "    <tr>\n",
              "      <th>max</th>\n",
              "      <td>1.617149e+09</td>\n",
              "      <td>61177.030000</td>\n",
              "      <td>61198.810000</td>\n",
              "      <td>61133.770000</td>\n",
              "      <td>61135.830000</td>\n",
              "      <td>200.790516</td>\n",
              "      <td>3.528571e+06</td>\n",
              "      <td>61147.066364</td>\n",
              "    </tr>\n",
              "  </tbody>\n",
              "</table>\n",
              "</div>"
            ],
            "text/plain": [
              "          Timestamp          Open  ...  Volume_(Currency)  Weighted_Price\n",
              "count  4.560000e+02    449.000000  ...       4.490000e+02      449.000000\n",
              "mean   1.597493e+09  17863.031292  ...       1.615963e+05    17865.541570\n",
              "std    1.138580e+07  14727.912870  ...       3.698892e+05    14731.930685\n",
              "min    1.577837e+09   4841.670000  ...       3.417724e+01     4875.340731\n",
              "25%    1.587665e+09   9154.100000  ...       9.010097e+03     9150.510000\n",
              "50%    1.597493e+09  10669.100000  ...       4.783278e+04    10670.492690\n",
              "75%    1.607321e+09  19175.130000  ...       1.451647e+05    19162.036463\n",
              "max    1.617149e+09  61177.030000  ...       3.528571e+06    61147.066364\n",
              "\n",
              "[8 rows x 8 columns]"
            ]
          },
          "metadata": {
            "tags": []
          },
          "execution_count": 19
        }
      ]
    },
    {
      "cell_type": "code",
      "metadata": {
        "colab": {
          "base_uri": "https://localhost:8080/",
          "height": 295
        },
        "id": "tThCDXITK-Tq",
        "outputId": "ea887440-fce8-4306-b139-3a6fc5be24b9"
      },
      "source": [
        "dc_aftr_2020.describe()"
      ],
      "execution_count": null,
      "outputs": [
        {
          "output_type": "execute_result",
          "data": {
            "text/html": [
              "<div>\n",
              "<style scoped>\n",
              "    .dataframe tbody tr th:only-of-type {\n",
              "        vertical-align: middle;\n",
              "    }\n",
              "\n",
              "    .dataframe tbody tr th {\n",
              "        vertical-align: top;\n",
              "    }\n",
              "\n",
              "    .dataframe thead th {\n",
              "        text-align: right;\n",
              "    }\n",
              "</style>\n",
              "<table border=\"1\" class=\"dataframe\">\n",
              "  <thead>\n",
              "    <tr style=\"text-align: right;\">\n",
              "      <th></th>\n",
              "      <th>Open</th>\n",
              "      <th>High</th>\n",
              "      <th>Low</th>\n",
              "      <th>Close</th>\n",
              "      <th>Adj Close</th>\n",
              "      <th>Volume</th>\n",
              "    </tr>\n",
              "  </thead>\n",
              "  <tbody>\n",
              "    <tr>\n",
              "      <th>count</th>\n",
              "      <td>530.000000</td>\n",
              "      <td>530.000000</td>\n",
              "      <td>530.000000</td>\n",
              "      <td>530.000000</td>\n",
              "      <td>530.000000</td>\n",
              "      <td>5.300000e+02</td>\n",
              "    </tr>\n",
              "    <tr>\n",
              "      <th>mean</th>\n",
              "      <td>0.055708</td>\n",
              "      <td>0.061610</td>\n",
              "      <td>0.050081</td>\n",
              "      <td>0.056289</td>\n",
              "      <td>0.056289</td>\n",
              "      <td>2.084356e+09</td>\n",
              "    </tr>\n",
              "    <tr>\n",
              "      <th>std</th>\n",
              "      <td>0.125756</td>\n",
              "      <td>0.140375</td>\n",
              "      <td>0.111218</td>\n",
              "      <td>0.126389</td>\n",
              "      <td>0.126389</td>\n",
              "      <td>6.095560e+09</td>\n",
              "    </tr>\n",
              "    <tr>\n",
              "      <th>min</th>\n",
              "      <td>0.001540</td>\n",
              "      <td>0.001612</td>\n",
              "      <td>0.001247</td>\n",
              "      <td>0.001537</td>\n",
              "      <td>0.001537</td>\n",
              "      <td>2.275453e+07</td>\n",
              "    </tr>\n",
              "    <tr>\n",
              "      <th>25%</th>\n",
              "      <td>0.002510</td>\n",
              "      <td>0.002553</td>\n",
              "      <td>0.002457</td>\n",
              "      <td>0.002510</td>\n",
              "      <td>0.002510</td>\n",
              "      <td>8.292414e+07</td>\n",
              "    </tr>\n",
              "    <tr>\n",
              "      <th>50%</th>\n",
              "      <td>0.003091</td>\n",
              "      <td>0.003197</td>\n",
              "      <td>0.002982</td>\n",
              "      <td>0.003099</td>\n",
              "      <td>0.003099</td>\n",
              "      <td>1.683652e+08</td>\n",
              "    </tr>\n",
              "    <tr>\n",
              "      <th>75%</th>\n",
              "      <td>0.046899</td>\n",
              "      <td>0.051029</td>\n",
              "      <td>0.040794</td>\n",
              "      <td>0.047335</td>\n",
              "      <td>0.047335</td>\n",
              "      <td>9.436006e+08</td>\n",
              "    </tr>\n",
              "    <tr>\n",
              "      <th>max</th>\n",
              "      <td>0.687801</td>\n",
              "      <td>0.737567</td>\n",
              "      <td>0.608168</td>\n",
              "      <td>0.684777</td>\n",
              "      <td>0.684777</td>\n",
              "      <td>6.941068e+10</td>\n",
              "    </tr>\n",
              "  </tbody>\n",
              "</table>\n",
              "</div>"
            ],
            "text/plain": [
              "             Open        High         Low       Close   Adj Close        Volume\n",
              "count  530.000000  530.000000  530.000000  530.000000  530.000000  5.300000e+02\n",
              "mean     0.055708    0.061610    0.050081    0.056289    0.056289  2.084356e+09\n",
              "std      0.125756    0.140375    0.111218    0.126389    0.126389  6.095560e+09\n",
              "min      0.001540    0.001612    0.001247    0.001537    0.001537  2.275453e+07\n",
              "25%      0.002510    0.002553    0.002457    0.002510    0.002510  8.292414e+07\n",
              "50%      0.003091    0.003197    0.002982    0.003099    0.003099  1.683652e+08\n",
              "75%      0.046899    0.051029    0.040794    0.047335    0.047335  9.436006e+08\n",
              "max      0.687801    0.737567    0.608168    0.684777    0.684777  6.941068e+10"
            ]
          },
          "metadata": {
            "tags": []
          },
          "execution_count": 20
        }
      ]
    },
    {
      "cell_type": "markdown",
      "metadata": {
        "id": "Lxk5CtugWTO8"
      },
      "source": [
        "describe로는 주제와 관련하여 딱히 추가적으로 얻을 만한 정보가 없는 것 같다."
      ]
    },
    {
      "cell_type": "code",
      "metadata": {
        "colab": {
          "base_uri": "https://localhost:8080/"
        },
        "id": "qRVj8bCS6B1a",
        "outputId": "241b2aba-1a13-4d11-9361-3a1398e34dfa"
      },
      "source": [
        "bc_aftr_2020.isna().sum()"
      ],
      "execution_count": null,
      "outputs": [
        {
          "output_type": "execute_result",
          "data": {
            "text/plain": [
              "Timestamp            0\n",
              "Open                 7\n",
              "High                 7\n",
              "Low                  7\n",
              "Close                7\n",
              "Volume_(BTC)         7\n",
              "Volume_(Currency)    7\n",
              "Weighted_Price       7\n",
              "Date                 0\n",
              "Time                 0\n",
              "dtype: int64"
            ]
          },
          "metadata": {
            "tags": []
          },
          "execution_count": 21
        }
      ]
    },
    {
      "cell_type": "markdown",
      "metadata": {
        "id": "3H--TlU9NmTq"
      },
      "source": [
        "가격은 Close를 사용할 것이기 때문에 바로 전날의 Close값으로 Close의 빈칸을 채워주었다."
      ]
    },
    {
      "cell_type": "code",
      "metadata": {
        "colab": {
          "base_uri": "https://localhost:8080/"
        },
        "id": "wAOwPAlD851I",
        "outputId": "7a9c276c-3662-482a-8050-06f855e0b96b"
      },
      "source": [
        "bc_aftr_2020['Close'] = bc_aftr_2020['Close'].fillna(method='pad')\n",
        "bc_aftr_2020.isna().sum()"
      ],
      "execution_count": null,
      "outputs": [
        {
          "output_type": "stream",
          "text": [
            "/usr/local/lib/python3.7/dist-packages/ipykernel_launcher.py:1: SettingWithCopyWarning: \n",
            "A value is trying to be set on a copy of a slice from a DataFrame.\n",
            "Try using .loc[row_indexer,col_indexer] = value instead\n",
            "\n",
            "See the caveats in the documentation: https://pandas.pydata.org/pandas-docs/stable/user_guide/indexing.html#returning-a-view-versus-a-copy\n",
            "  \"\"\"Entry point for launching an IPython kernel.\n"
          ],
          "name": "stderr"
        },
        {
          "output_type": "execute_result",
          "data": {
            "text/plain": [
              "Timestamp            0\n",
              "Open                 7\n",
              "High                 7\n",
              "Low                  7\n",
              "Close                0\n",
              "Volume_(BTC)         7\n",
              "Volume_(Currency)    7\n",
              "Weighted_Price       7\n",
              "Date                 0\n",
              "Time                 0\n",
              "dtype: int64"
            ]
          },
          "metadata": {
            "tags": []
          },
          "execution_count": 22
        }
      ]
    },
    {
      "cell_type": "code",
      "metadata": {
        "colab": {
          "base_uri": "https://localhost:8080/"
        },
        "id": "pvSOdkXmYE-R",
        "outputId": "5537eeb8-93d6-4f4c-9c98-d450a50995f0"
      },
      "source": [
        "dc_aftr_2020.isna().sum()"
      ],
      "execution_count": null,
      "outputs": [
        {
          "output_type": "execute_result",
          "data": {
            "text/plain": [
              "Date         0\n",
              "Open         5\n",
              "High         5\n",
              "Low          5\n",
              "Close        5\n",
              "Adj Close    5\n",
              "Volume       5\n",
              "dtype: int64"
            ]
          },
          "metadata": {
            "tags": []
          },
          "execution_count": 23
        }
      ]
    },
    {
      "cell_type": "markdown",
      "metadata": {
        "id": "wYyGcuIrYcoh"
      },
      "source": [
        "마찬가지로 close의 비어있는 값들을 채워주었다."
      ]
    },
    {
      "cell_type": "code",
      "metadata": {
        "colab": {
          "base_uri": "https://localhost:8080/"
        },
        "id": "rVzw6J17YSmA",
        "outputId": "3828b548-4484-4029-ce48-8b388d234413"
      },
      "source": [
        "dc_aftr_2020['Close'] = dc_aftr_2020['Close'].fillna(method='pad')\n",
        "dc_aftr_2020.isna().sum()"
      ],
      "execution_count": null,
      "outputs": [
        {
          "output_type": "execute_result",
          "data": {
            "text/plain": [
              "Date         0\n",
              "Open         5\n",
              "High         5\n",
              "Low          5\n",
              "Close        0\n",
              "Adj Close    5\n",
              "Volume       5\n",
              "dtype: int64"
            ]
          },
          "metadata": {
            "tags": []
          },
          "execution_count": 24
        }
      ]
    },
    {
      "cell_type": "code",
      "metadata": {
        "colab": {
          "base_uri": "https://localhost:8080/"
        },
        "id": "y29AXKUYcJgf",
        "outputId": "3d1b57cb-313a-47ef-9e75-58ba95c55786"
      },
      "source": [
        "tsla_aftr_2020.isna().sum()"
      ],
      "execution_count": null,
      "outputs": [
        {
          "output_type": "execute_result",
          "data": {
            "text/plain": [
              "Date          0\n",
              "Close/Last    0\n",
              "Volume        0\n",
              "Open          0\n",
              "High          0\n",
              "Low           0\n",
              "Close         0\n",
              "dtype: int64"
            ]
          },
          "metadata": {
            "tags": []
          },
          "execution_count": 25
        }
      ]
    },
    {
      "cell_type": "markdown",
      "metadata": {
        "id": "ASCeRcmbN_Ew"
      },
      "source": [
        "테슬라 데이터는 모두 채워져 있다."
      ]
    },
    {
      "cell_type": "code",
      "metadata": {
        "colab": {
          "base_uri": "https://localhost:8080/"
        },
        "id": "14Ki4DpHcZnQ",
        "outputId": "d638e49f-d447-4b5c-8f16-20bea3a8824a"
      },
      "source": [
        "musk_aftr_2020.isna().sum()"
      ],
      "execution_count": null,
      "outputs": [
        {
          "output_type": "execute_result",
          "data": {
            "text/plain": [
              "id                    0\n",
              "conversation_id       0\n",
              "created_at            0\n",
              "time                  0\n",
              "timezone              0\n",
              "user_id               0\n",
              "username              0\n",
              "name                  0\n",
              "place              4175\n",
              "tweet                 0\n",
              "language              0\n",
              "mentions              0\n",
              "urls                  0\n",
              "photos                0\n",
              "replies_count         0\n",
              "retweets_count        0\n",
              "likes_count           0\n",
              "hashtags              0\n",
              "cashtags              0\n",
              "link                  0\n",
              "retweet               0\n",
              "quote_url          4088\n",
              "video                 0\n",
              "thumbnail          3897\n",
              "near               4175\n",
              "geo                4175\n",
              "source             4175\n",
              "user_rt_id         4175\n",
              "user_rt            4175\n",
              "retweet_id         4175\n",
              "reply_to              0\n",
              "retweet_date       4175\n",
              "translate          4175\n",
              "trans_src          4175\n",
              "trans_dest         4175\n",
              "Date                  0\n",
              "dtype: int64"
            ]
          },
          "metadata": {
            "tags": []
          },
          "execution_count": 26
        }
      ]
    },
    {
      "cell_type": "markdown",
      "metadata": {
        "id": "XsgpTspv5i8p"
      },
      "source": [
        "일론 머스크의 트위터 데이터는 사실상 트윗 칼럼만 있으면 되기 때문에 \n",
        "\n",
        "굳이 빈칸을 채워줄 필요는 없다."
      ]
    },
    {
      "cell_type": "markdown",
      "metadata": {
        "id": "td4_Ql0SYyEx"
      },
      "source": [
        "2020년 1월 1일 이후의 비트코인 관련 트윗을 좋아요 순으로 나열하였다."
      ]
    },
    {
      "cell_type": "code",
      "metadata": {
        "colab": {
          "base_uri": "https://localhost:8080/",
          "height": 610
        },
        "id": "B1B753jW47Mc",
        "outputId": "9da46678-ab52-4f57-8801-d4dd0beb31fc"
      },
      "source": [
        "musk_bc = musk_aftr_2020[musk_aftr_2020['tweet'].str.contains('bitcoin|btc|Bitcoin')]\n",
        "musk_bc.sort_values('likes_count',ascending=False).head()"
      ],
      "execution_count": null,
      "outputs": [
        {
          "output_type": "execute_result",
          "data": {
            "text/html": [
              "<div>\n",
              "<style scoped>\n",
              "    .dataframe tbody tr th:only-of-type {\n",
              "        vertical-align: middle;\n",
              "    }\n",
              "\n",
              "    .dataframe tbody tr th {\n",
              "        vertical-align: top;\n",
              "    }\n",
              "\n",
              "    .dataframe thead th {\n",
              "        text-align: right;\n",
              "    }\n",
              "</style>\n",
              "<table border=\"1\" class=\"dataframe\">\n",
              "  <thead>\n",
              "    <tr style=\"text-align: right;\">\n",
              "      <th></th>\n",
              "      <th>id</th>\n",
              "      <th>conversation_id</th>\n",
              "      <th>created_at</th>\n",
              "      <th>time</th>\n",
              "      <th>timezone</th>\n",
              "      <th>user_id</th>\n",
              "      <th>username</th>\n",
              "      <th>name</th>\n",
              "      <th>place</th>\n",
              "      <th>tweet</th>\n",
              "      <th>language</th>\n",
              "      <th>mentions</th>\n",
              "      <th>urls</th>\n",
              "      <th>photos</th>\n",
              "      <th>replies_count</th>\n",
              "      <th>retweets_count</th>\n",
              "      <th>likes_count</th>\n",
              "      <th>hashtags</th>\n",
              "      <th>cashtags</th>\n",
              "      <th>link</th>\n",
              "      <th>retweet</th>\n",
              "      <th>quote_url</th>\n",
              "      <th>video</th>\n",
              "      <th>thumbnail</th>\n",
              "      <th>near</th>\n",
              "      <th>geo</th>\n",
              "      <th>source</th>\n",
              "      <th>user_rt_id</th>\n",
              "      <th>user_rt</th>\n",
              "      <th>retweet_id</th>\n",
              "      <th>reply_to</th>\n",
              "      <th>retweet_date</th>\n",
              "      <th>translate</th>\n",
              "      <th>trans_src</th>\n",
              "      <th>trans_dest</th>\n",
              "      <th>Date</th>\n",
              "    </tr>\n",
              "  </thead>\n",
              "  <tbody>\n",
              "    <tr>\n",
              "      <th>164</th>\n",
              "      <td>1374617643446063105</td>\n",
              "      <td>1374617643446063105</td>\n",
              "      <td>2021-03-24 09:02:40 EET</td>\n",
              "      <td>09:02:40</td>\n",
              "      <td>300</td>\n",
              "      <td>44196397</td>\n",
              "      <td>elonmusk</td>\n",
              "      <td>Elon Musk</td>\n",
              "      <td>NaN</td>\n",
              "      <td>You can now buy a Tesla with Bitcoin</td>\n",
              "      <td>en</td>\n",
              "      <td>[]</td>\n",
              "      <td>[]</td>\n",
              "      <td>[]</td>\n",
              "      <td>36954</td>\n",
              "      <td>115994</td>\n",
              "      <td>902515</td>\n",
              "      <td>[]</td>\n",
              "      <td>[]</td>\n",
              "      <td>https://twitter.com/elonmusk/status/1374617643...</td>\n",
              "      <td>False</td>\n",
              "      <td>NaN</td>\n",
              "      <td>0</td>\n",
              "      <td>NaN</td>\n",
              "      <td>NaN</td>\n",
              "      <td>NaN</td>\n",
              "      <td>NaN</td>\n",
              "      <td>NaN</td>\n",
              "      <td>NaN</td>\n",
              "      <td>NaN</td>\n",
              "      <td>[]</td>\n",
              "      <td>NaN</td>\n",
              "      <td>NaN</td>\n",
              "      <td>NaN</td>\n",
              "      <td>NaN</td>\n",
              "      <td>2021-03-24</td>\n",
              "    </tr>\n",
              "    <tr>\n",
              "      <th>244</th>\n",
              "      <td>1370449101402353669</td>\n",
              "      <td>1370449101402353669</td>\n",
              "      <td>2021-03-12 20:58:22 EET</td>\n",
              "      <td>20:58:22</td>\n",
              "      <td>300</td>\n",
              "      <td>44196397</td>\n",
              "      <td>elonmusk</td>\n",
              "      <td>Elon Musk</td>\n",
              "      <td>NaN</td>\n",
              "      <td>BTC (Bitcoin) is an anagram of TBC(The Boring ...</td>\n",
              "      <td>en</td>\n",
              "      <td>[]</td>\n",
              "      <td>[]</td>\n",
              "      <td>[]</td>\n",
              "      <td>12073</td>\n",
              "      <td>17825</td>\n",
              "      <td>245163</td>\n",
              "      <td>[]</td>\n",
              "      <td>[]</td>\n",
              "      <td>https://twitter.com/elonmusk/status/1370449101...</td>\n",
              "      <td>False</td>\n",
              "      <td>NaN</td>\n",
              "      <td>0</td>\n",
              "      <td>NaN</td>\n",
              "      <td>NaN</td>\n",
              "      <td>NaN</td>\n",
              "      <td>NaN</td>\n",
              "      <td>NaN</td>\n",
              "      <td>NaN</td>\n",
              "      <td>NaN</td>\n",
              "      <td>[]</td>\n",
              "      <td>NaN</td>\n",
              "      <td>NaN</td>\n",
              "      <td>NaN</td>\n",
              "      <td>NaN</td>\n",
              "      <td>2021-03-12</td>\n",
              "    </tr>\n",
              "    <tr>\n",
              "      <th>871</th>\n",
              "      <td>1340573003579617280</td>\n",
              "      <td>1340573003579617280</td>\n",
              "      <td>2020-12-20 10:21:25 EET</td>\n",
              "      <td>10:21:25</td>\n",
              "      <td>300</td>\n",
              "      <td>44196397</td>\n",
              "      <td>elonmusk</td>\n",
              "      <td>Elon Musk</td>\n",
              "      <td>NaN</td>\n",
              "      <td>Bitcoin is my safe word</td>\n",
              "      <td>en</td>\n",
              "      <td>[]</td>\n",
              "      <td>[]</td>\n",
              "      <td>[]</td>\n",
              "      <td>6700</td>\n",
              "      <td>19942</td>\n",
              "      <td>239982</td>\n",
              "      <td>[]</td>\n",
              "      <td>[]</td>\n",
              "      <td>https://twitter.com/elonmusk/status/1340573003...</td>\n",
              "      <td>False</td>\n",
              "      <td>NaN</td>\n",
              "      <td>0</td>\n",
              "      <td>NaN</td>\n",
              "      <td>NaN</td>\n",
              "      <td>NaN</td>\n",
              "      <td>NaN</td>\n",
              "      <td>NaN</td>\n",
              "      <td>NaN</td>\n",
              "      <td>NaN</td>\n",
              "      <td>[]</td>\n",
              "      <td>NaN</td>\n",
              "      <td>NaN</td>\n",
              "      <td>NaN</td>\n",
              "      <td>NaN</td>\n",
              "      <td>2020-12-20</td>\n",
              "    </tr>\n",
              "    <tr>\n",
              "      <th>163</th>\n",
              "      <td>1374619379929772034</td>\n",
              "      <td>1374617643446063105</td>\n",
              "      <td>2021-03-24 09:09:34 EET</td>\n",
              "      <td>09:09:34</td>\n",
              "      <td>300</td>\n",
              "      <td>44196397</td>\n",
              "      <td>elonmusk</td>\n",
              "      <td>Elon Musk</td>\n",
              "      <td>NaN</td>\n",
              "      <td>Tesla is using only internal &amp;amp; open source...</td>\n",
              "      <td>en</td>\n",
              "      <td>[]</td>\n",
              "      <td>[]</td>\n",
              "      <td>[]</td>\n",
              "      <td>4675</td>\n",
              "      <td>20572</td>\n",
              "      <td>179638</td>\n",
              "      <td>[]</td>\n",
              "      <td>[]</td>\n",
              "      <td>https://twitter.com/elonmusk/status/1374619379...</td>\n",
              "      <td>False</td>\n",
              "      <td>NaN</td>\n",
              "      <td>0</td>\n",
              "      <td>NaN</td>\n",
              "      <td>NaN</td>\n",
              "      <td>NaN</td>\n",
              "      <td>NaN</td>\n",
              "      <td>NaN</td>\n",
              "      <td>NaN</td>\n",
              "      <td>NaN</td>\n",
              "      <td>[]</td>\n",
              "      <td>NaN</td>\n",
              "      <td>NaN</td>\n",
              "      <td>NaN</td>\n",
              "      <td>NaN</td>\n",
              "      <td>2021-03-24</td>\n",
              "    </tr>\n",
              "    <tr>\n",
              "      <th>162</th>\n",
              "      <td>1374619672973221892</td>\n",
              "      <td>1374617643446063105</td>\n",
              "      <td>2021-03-24 09:10:43 EET</td>\n",
              "      <td>09:10:43</td>\n",
              "      <td>300</td>\n",
              "      <td>44196397</td>\n",
              "      <td>elonmusk</td>\n",
              "      <td>Elon Musk</td>\n",
              "      <td>NaN</td>\n",
              "      <td>Pay by Bitcoin capability available outside US...</td>\n",
              "      <td>en</td>\n",
              "      <td>[]</td>\n",
              "      <td>[]</td>\n",
              "      <td>[]</td>\n",
              "      <td>3152</td>\n",
              "      <td>9279</td>\n",
              "      <td>141418</td>\n",
              "      <td>[]</td>\n",
              "      <td>[]</td>\n",
              "      <td>https://twitter.com/elonmusk/status/1374619672...</td>\n",
              "      <td>False</td>\n",
              "      <td>NaN</td>\n",
              "      <td>0</td>\n",
              "      <td>NaN</td>\n",
              "      <td>NaN</td>\n",
              "      <td>NaN</td>\n",
              "      <td>NaN</td>\n",
              "      <td>NaN</td>\n",
              "      <td>NaN</td>\n",
              "      <td>NaN</td>\n",
              "      <td>[]</td>\n",
              "      <td>NaN</td>\n",
              "      <td>NaN</td>\n",
              "      <td>NaN</td>\n",
              "      <td>NaN</td>\n",
              "      <td>2021-03-24</td>\n",
              "    </tr>\n",
              "  </tbody>\n",
              "</table>\n",
              "</div>"
            ],
            "text/plain": [
              "                      id      conversation_id  ... trans_dest        Date\n",
              "164  1374617643446063105  1374617643446063105  ...        NaN  2021-03-24\n",
              "244  1370449101402353669  1370449101402353669  ...        NaN  2021-03-12\n",
              "871  1340573003579617280  1340573003579617280  ...        NaN  2020-12-20\n",
              "163  1374619379929772034  1374617643446063105  ...        NaN  2021-03-24\n",
              "162  1374619672973221892  1374617643446063105  ...        NaN  2021-03-24\n",
              "\n",
              "[5 rows x 36 columns]"
            ]
          },
          "metadata": {
            "tags": []
          },
          "execution_count": 27
        }
      ]
    },
    {
      "cell_type": "markdown",
      "metadata": {
        "id": "EBHFO0RUZL1P"
      },
      "source": [
        "가장 좋아요를 많이 받은 비트코인 관련 트윗은 2021년 3월 24일에 올라온 비트코인으로 테슬라를 살 수 있다는 내용이다."
      ]
    },
    {
      "cell_type": "markdown",
      "metadata": {
        "id": "MPnfYw8CZA7r"
      },
      "source": [
        "마찬가지로 2020년 1월 1일 이후의 도지코인 관련 트윗을 좋아요 순으로 나열하였다."
      ]
    },
    {
      "cell_type": "code",
      "metadata": {
        "colab": {
          "base_uri": "https://localhost:8080/",
          "height": 576
        },
        "id": "KVFek-hGZDub",
        "outputId": "5a546a51-2cc8-4070-ba39-be7004eb15b2"
      },
      "source": [
        "musk_dc = musk_aftr_2020[musk_aftr_2020['tweet'].str.contains('dogecoin|dgc|Dogecoin|Doge|doge')]\n",
        "musk_dc.sort_values('likes_count',ascending=False).head()"
      ],
      "execution_count": null,
      "outputs": [
        {
          "output_type": "execute_result",
          "data": {
            "text/html": [
              "<div>\n",
              "<style scoped>\n",
              "    .dataframe tbody tr th:only-of-type {\n",
              "        vertical-align: middle;\n",
              "    }\n",
              "\n",
              "    .dataframe tbody tr th {\n",
              "        vertical-align: top;\n",
              "    }\n",
              "\n",
              "    .dataframe thead th {\n",
              "        text-align: right;\n",
              "    }\n",
              "</style>\n",
              "<table border=\"1\" class=\"dataframe\">\n",
              "  <thead>\n",
              "    <tr style=\"text-align: right;\">\n",
              "      <th></th>\n",
              "      <th>id</th>\n",
              "      <th>conversation_id</th>\n",
              "      <th>created_at</th>\n",
              "      <th>time</th>\n",
              "      <th>timezone</th>\n",
              "      <th>user_id</th>\n",
              "      <th>username</th>\n",
              "      <th>name</th>\n",
              "      <th>place</th>\n",
              "      <th>tweet</th>\n",
              "      <th>language</th>\n",
              "      <th>mentions</th>\n",
              "      <th>urls</th>\n",
              "      <th>photos</th>\n",
              "      <th>replies_count</th>\n",
              "      <th>retweets_count</th>\n",
              "      <th>likes_count</th>\n",
              "      <th>hashtags</th>\n",
              "      <th>cashtags</th>\n",
              "      <th>link</th>\n",
              "      <th>retweet</th>\n",
              "      <th>quote_url</th>\n",
              "      <th>video</th>\n",
              "      <th>thumbnail</th>\n",
              "      <th>near</th>\n",
              "      <th>geo</th>\n",
              "      <th>source</th>\n",
              "      <th>user_rt_id</th>\n",
              "      <th>user_rt</th>\n",
              "      <th>retweet_id</th>\n",
              "      <th>reply_to</th>\n",
              "      <th>retweet_date</th>\n",
              "      <th>translate</th>\n",
              "      <th>trans_src</th>\n",
              "      <th>trans_dest</th>\n",
              "      <th>Date</th>\n",
              "    </tr>\n",
              "  </thead>\n",
              "  <tbody>\n",
              "    <tr>\n",
              "      <th>480</th>\n",
              "      <td>1358542364948668418</td>\n",
              "      <td>1358542364948668418</td>\n",
              "      <td>2021-02-08 00:25:14 EET</td>\n",
              "      <td>00:25:14</td>\n",
              "      <td>300</td>\n",
              "      <td>44196397</td>\n",
              "      <td>elonmusk</td>\n",
              "      <td>Elon Musk</td>\n",
              "      <td>NaN</td>\n",
              "      <td>🎶 Who let the Doge out 🎶</td>\n",
              "      <td>en</td>\n",
              "      <td>[]</td>\n",
              "      <td>[]</td>\n",
              "      <td>[]</td>\n",
              "      <td>27495</td>\n",
              "      <td>115707</td>\n",
              "      <td>791454</td>\n",
              "      <td>[]</td>\n",
              "      <td>[]</td>\n",
              "      <td>https://twitter.com/elonmusk/status/1358542364...</td>\n",
              "      <td>False</td>\n",
              "      <td>NaN</td>\n",
              "      <td>0</td>\n",
              "      <td>NaN</td>\n",
              "      <td>NaN</td>\n",
              "      <td>NaN</td>\n",
              "      <td>NaN</td>\n",
              "      <td>NaN</td>\n",
              "      <td>NaN</td>\n",
              "      <td>NaN</td>\n",
              "      <td>[]</td>\n",
              "      <td>NaN</td>\n",
              "      <td>NaN</td>\n",
              "      <td>NaN</td>\n",
              "      <td>NaN</td>\n",
              "      <td>2021-02-08</td>\n",
              "    </tr>\n",
              "    <tr>\n",
              "      <th>525</th>\n",
              "      <td>1357244295091208193</td>\n",
              "      <td>1357244295091208193</td>\n",
              "      <td>2021-02-04 10:27:10 EET</td>\n",
              "      <td>10:27:10</td>\n",
              "      <td>300</td>\n",
              "      <td>44196397</td>\n",
              "      <td>elonmusk</td>\n",
              "      <td>Elon Musk</td>\n",
              "      <td>NaN</td>\n",
              "      <td>No highs, no lows, only Doge</td>\n",
              "      <td>en</td>\n",
              "      <td>[]</td>\n",
              "      <td>[]</td>\n",
              "      <td>[]</td>\n",
              "      <td>22644</td>\n",
              "      <td>114920</td>\n",
              "      <td>777805</td>\n",
              "      <td>[]</td>\n",
              "      <td>[]</td>\n",
              "      <td>https://twitter.com/elonmusk/status/1357244295...</td>\n",
              "      <td>False</td>\n",
              "      <td>NaN</td>\n",
              "      <td>0</td>\n",
              "      <td>NaN</td>\n",
              "      <td>NaN</td>\n",
              "      <td>NaN</td>\n",
              "      <td>NaN</td>\n",
              "      <td>NaN</td>\n",
              "      <td>NaN</td>\n",
              "      <td>NaN</td>\n",
              "      <td>[]</td>\n",
              "      <td>NaN</td>\n",
              "      <td>NaN</td>\n",
              "      <td>NaN</td>\n",
              "      <td>NaN</td>\n",
              "      <td>2021-02-04</td>\n",
              "    </tr>\n",
              "    <tr>\n",
              "      <th>527</th>\n",
              "      <td>1357241340313141249</td>\n",
              "      <td>1357241340313141249</td>\n",
              "      <td>2021-02-04 10:15:26 EET</td>\n",
              "      <td>10:15:26</td>\n",
              "      <td>300</td>\n",
              "      <td>44196397</td>\n",
              "      <td>elonmusk</td>\n",
              "      <td>Elon Musk</td>\n",
              "      <td>NaN</td>\n",
              "      <td>Dogecoin is the people’s crypto</td>\n",
              "      <td>en</td>\n",
              "      <td>[]</td>\n",
              "      <td>[]</td>\n",
              "      <td>[]</td>\n",
              "      <td>19461</td>\n",
              "      <td>104278</td>\n",
              "      <td>555730</td>\n",
              "      <td>[]</td>\n",
              "      <td>[]</td>\n",
              "      <td>https://twitter.com/elonmusk/status/1357241340...</td>\n",
              "      <td>False</td>\n",
              "      <td>NaN</td>\n",
              "      <td>0</td>\n",
              "      <td>NaN</td>\n",
              "      <td>NaN</td>\n",
              "      <td>NaN</td>\n",
              "      <td>NaN</td>\n",
              "      <td>NaN</td>\n",
              "      <td>NaN</td>\n",
              "      <td>NaN</td>\n",
              "      <td>[]</td>\n",
              "      <td>NaN</td>\n",
              "      <td>NaN</td>\n",
              "      <td>NaN</td>\n",
              "      <td>NaN</td>\n",
              "      <td>2021-02-04</td>\n",
              "    </tr>\n",
              "    <tr>\n",
              "      <th>452</th>\n",
              "      <td>1359519541219500033</td>\n",
              "      <td>1359519541219500033</td>\n",
              "      <td>2021-02-10 17:08:11 EET</td>\n",
              "      <td>17:08:11</td>\n",
              "      <td>300</td>\n",
              "      <td>44196397</td>\n",
              "      <td>elonmusk</td>\n",
              "      <td>Elon Musk</td>\n",
              "      <td>NaN</td>\n",
              "      <td>Bought some Dogecoin for lil X, so he can be a...</td>\n",
              "      <td>en</td>\n",
              "      <td>[]</td>\n",
              "      <td>[]</td>\n",
              "      <td>[]</td>\n",
              "      <td>29116</td>\n",
              "      <td>59638</td>\n",
              "      <td>551419</td>\n",
              "      <td>[]</td>\n",
              "      <td>[]</td>\n",
              "      <td>https://twitter.com/elonmusk/status/1359519541...</td>\n",
              "      <td>False</td>\n",
              "      <td>NaN</td>\n",
              "      <td>0</td>\n",
              "      <td>NaN</td>\n",
              "      <td>NaN</td>\n",
              "      <td>NaN</td>\n",
              "      <td>NaN</td>\n",
              "      <td>NaN</td>\n",
              "      <td>NaN</td>\n",
              "      <td>NaN</td>\n",
              "      <td>[]</td>\n",
              "      <td>NaN</td>\n",
              "      <td>NaN</td>\n",
              "      <td>NaN</td>\n",
              "      <td>NaN</td>\n",
              "      <td>2021-02-10</td>\n",
              "    </tr>\n",
              "    <tr>\n",
              "      <th>103</th>\n",
              "      <td>1377567762919292938</td>\n",
              "      <td>1377567762919292938</td>\n",
              "      <td>2021-04-01 13:25:23 EEST</td>\n",
              "      <td>13:25:23</td>\n",
              "      <td>300</td>\n",
              "      <td>44196397</td>\n",
              "      <td>elonmusk</td>\n",
              "      <td>Elon Musk</td>\n",
              "      <td>NaN</td>\n",
              "      <td>SpaceX is going to put a literal Dogecoin on t...</td>\n",
              "      <td>en</td>\n",
              "      <td>[]</td>\n",
              "      <td>[]</td>\n",
              "      <td>[]</td>\n",
              "      <td>25947</td>\n",
              "      <td>50139</td>\n",
              "      <td>535373</td>\n",
              "      <td>[]</td>\n",
              "      <td>[]</td>\n",
              "      <td>https://twitter.com/elonmusk/status/1377567762...</td>\n",
              "      <td>False</td>\n",
              "      <td>NaN</td>\n",
              "      <td>0</td>\n",
              "      <td>NaN</td>\n",
              "      <td>NaN</td>\n",
              "      <td>NaN</td>\n",
              "      <td>NaN</td>\n",
              "      <td>NaN</td>\n",
              "      <td>NaN</td>\n",
              "      <td>NaN</td>\n",
              "      <td>[]</td>\n",
              "      <td>NaN</td>\n",
              "      <td>NaN</td>\n",
              "      <td>NaN</td>\n",
              "      <td>NaN</td>\n",
              "      <td>2021-04-01</td>\n",
              "    </tr>\n",
              "  </tbody>\n",
              "</table>\n",
              "</div>"
            ],
            "text/plain": [
              "                      id      conversation_id  ... trans_dest        Date\n",
              "480  1358542364948668418  1358542364948668418  ...        NaN  2021-02-08\n",
              "525  1357244295091208193  1357244295091208193  ...        NaN  2021-02-04\n",
              "527  1357241340313141249  1357241340313141249  ...        NaN  2021-02-04\n",
              "452  1359519541219500033  1359519541219500033  ...        NaN  2021-02-10\n",
              "103  1377567762919292938  1377567762919292938  ...        NaN  2021-04-01\n",
              "\n",
              "[5 rows x 36 columns]"
            ]
          },
          "metadata": {
            "tags": []
          },
          "execution_count": 28
        }
      ]
    },
    {
      "cell_type": "markdown",
      "metadata": {
        "id": "N_JtncF4odvJ"
      },
      "source": [
        "가장 좋아요를 많이 받은 도지코인 관련 트윗은 2021년 2월 8일에 올라온 도지와 관련된 농담 트윗이다."
      ]
    },
    {
      "cell_type": "code",
      "metadata": {
        "colab": {
          "base_uri": "https://localhost:8080/",
          "height": 542
        },
        "id": "8p0QxLxqorpM",
        "outputId": "1cb95ec3-d4b0-49d0-b5c2-6873039a98dd"
      },
      "source": [
        "musk_bc[['Date','likes_count']]"
      ],
      "execution_count": null,
      "outputs": [
        {
          "output_type": "execute_result",
          "data": {
            "text/html": [
              "<div>\n",
              "<style scoped>\n",
              "    .dataframe tbody tr th:only-of-type {\n",
              "        vertical-align: middle;\n",
              "    }\n",
              "\n",
              "    .dataframe tbody tr th {\n",
              "        vertical-align: top;\n",
              "    }\n",
              "\n",
              "    .dataframe thead th {\n",
              "        text-align: right;\n",
              "    }\n",
              "</style>\n",
              "<table border=\"1\" class=\"dataframe\">\n",
              "  <thead>\n",
              "    <tr style=\"text-align: right;\">\n",
              "      <th></th>\n",
              "      <th>Date</th>\n",
              "      <th>likes_count</th>\n",
              "    </tr>\n",
              "  </thead>\n",
              "  <tbody>\n",
              "    <tr>\n",
              "      <th>4095</th>\n",
              "      <td>2020-01-10</td>\n",
              "      <td>3073</td>\n",
              "    </tr>\n",
              "    <tr>\n",
              "      <th>4096</th>\n",
              "      <td>2020-01-10</td>\n",
              "      <td>119632</td>\n",
              "    </tr>\n",
              "    <tr>\n",
              "      <th>3061</th>\n",
              "      <td>2020-05-02</td>\n",
              "      <td>17434</td>\n",
              "    </tr>\n",
              "    <tr>\n",
              "      <th>3063</th>\n",
              "      <td>2020-05-02</td>\n",
              "      <td>5087</td>\n",
              "    </tr>\n",
              "    <tr>\n",
              "      <th>2798</th>\n",
              "      <td>2020-05-16</td>\n",
              "      <td>14939</td>\n",
              "    </tr>\n",
              "    <tr>\n",
              "      <th>2797</th>\n",
              "      <td>2020-05-16</td>\n",
              "      <td>9674</td>\n",
              "    </tr>\n",
              "    <tr>\n",
              "      <th>2207</th>\n",
              "      <td>2020-07-19</td>\n",
              "      <td>9374</td>\n",
              "    </tr>\n",
              "    <tr>\n",
              "      <th>1081</th>\n",
              "      <td>2020-11-17</td>\n",
              "      <td>66188</td>\n",
              "    </tr>\n",
              "    <tr>\n",
              "      <th>863</th>\n",
              "      <td>2020-12-20</td>\n",
              "      <td>140112</td>\n",
              "    </tr>\n",
              "    <tr>\n",
              "      <th>871</th>\n",
              "      <td>2020-12-20</td>\n",
              "      <td>239982</td>\n",
              "    </tr>\n",
              "    <tr>\n",
              "      <th>410</th>\n",
              "      <td>2021-02-19</td>\n",
              "      <td>35319</td>\n",
              "    </tr>\n",
              "    <tr>\n",
              "      <th>411</th>\n",
              "      <td>2021-02-19</td>\n",
              "      <td>27738</td>\n",
              "    </tr>\n",
              "    <tr>\n",
              "      <th>244</th>\n",
              "      <td>2021-03-12</td>\n",
              "      <td>245163</td>\n",
              "    </tr>\n",
              "    <tr>\n",
              "      <th>162</th>\n",
              "      <td>2021-03-24</td>\n",
              "      <td>141418</td>\n",
              "    </tr>\n",
              "    <tr>\n",
              "      <th>164</th>\n",
              "      <td>2021-03-24</td>\n",
              "      <td>902515</td>\n",
              "    </tr>\n",
              "    <tr>\n",
              "      <th>163</th>\n",
              "      <td>2021-03-24</td>\n",
              "      <td>179638</td>\n",
              "    </tr>\n",
              "  </tbody>\n",
              "</table>\n",
              "</div>"
            ],
            "text/plain": [
              "            Date  likes_count\n",
              "4095  2020-01-10         3073\n",
              "4096  2020-01-10       119632\n",
              "3061  2020-05-02        17434\n",
              "3063  2020-05-02         5087\n",
              "2798  2020-05-16        14939\n",
              "2797  2020-05-16         9674\n",
              "2207  2020-07-19         9374\n",
              "1081  2020-11-17        66188\n",
              "863   2020-12-20       140112\n",
              "871   2020-12-20       239982\n",
              "410   2021-02-19        35319\n",
              "411   2021-02-19        27738\n",
              "244   2021-03-12       245163\n",
              "162   2021-03-24       141418\n",
              "164   2021-03-24       902515\n",
              "163   2021-03-24       179638"
            ]
          },
          "metadata": {
            "tags": []
          },
          "execution_count": 29
        }
      ]
    },
    {
      "cell_type": "code",
      "metadata": {
        "colab": {
          "base_uri": "https://localhost:8080/",
          "height": 1000
        },
        "id": "dLM-HdBwpA_d",
        "outputId": "78b8fa7d-3fc2-422c-c2ae-ae91dcf5da4f"
      },
      "source": [
        "musk_dc[['Date','likes_count']]"
      ],
      "execution_count": null,
      "outputs": [
        {
          "output_type": "execute_result",
          "data": {
            "text/html": [
              "<div>\n",
              "<style scoped>\n",
              "    .dataframe tbody tr th:only-of-type {\n",
              "        vertical-align: middle;\n",
              "    }\n",
              "\n",
              "    .dataframe tbody tr th {\n",
              "        vertical-align: top;\n",
              "    }\n",
              "\n",
              "    .dataframe thead th {\n",
              "        text-align: right;\n",
              "    }\n",
              "</style>\n",
              "<table border=\"1\" class=\"dataframe\">\n",
              "  <thead>\n",
              "    <tr style=\"text-align: right;\">\n",
              "      <th></th>\n",
              "      <th>Date</th>\n",
              "      <th>likes_count</th>\n",
              "    </tr>\n",
              "  </thead>\n",
              "  <tbody>\n",
              "    <tr>\n",
              "      <th>3153</th>\n",
              "      <td>2020-04-25</td>\n",
              "      <td>2187</td>\n",
              "    </tr>\n",
              "    <tr>\n",
              "      <th>2225</th>\n",
              "      <td>2020-07-18</td>\n",
              "      <td>15877</td>\n",
              "    </tr>\n",
              "    <tr>\n",
              "      <th>1059</th>\n",
              "      <td>2020-11-17</td>\n",
              "      <td>996</td>\n",
              "    </tr>\n",
              "    <tr>\n",
              "      <th>862</th>\n",
              "      <td>2020-12-20</td>\n",
              "      <td>223227</td>\n",
              "    </tr>\n",
              "    <tr>\n",
              "      <th>530</th>\n",
              "      <td>2021-02-04</td>\n",
              "      <td>262590</td>\n",
              "    </tr>\n",
              "    <tr>\n",
              "      <th>525</th>\n",
              "      <td>2021-02-04</td>\n",
              "      <td>777805</td>\n",
              "    </tr>\n",
              "    <tr>\n",
              "      <th>527</th>\n",
              "      <td>2021-02-04</td>\n",
              "      <td>555730</td>\n",
              "    </tr>\n",
              "    <tr>\n",
              "      <th>497</th>\n",
              "      <td>2021-02-06</td>\n",
              "      <td>9664</td>\n",
              "    </tr>\n",
              "    <tr>\n",
              "      <th>486</th>\n",
              "      <td>2021-02-07</td>\n",
              "      <td>7756</td>\n",
              "    </tr>\n",
              "    <tr>\n",
              "      <th>488</th>\n",
              "      <td>2021-02-07</td>\n",
              "      <td>61150</td>\n",
              "    </tr>\n",
              "    <tr>\n",
              "      <th>472</th>\n",
              "      <td>2021-02-08</td>\n",
              "      <td>13794</td>\n",
              "    </tr>\n",
              "    <tr>\n",
              "      <th>480</th>\n",
              "      <td>2021-02-08</td>\n",
              "      <td>791454</td>\n",
              "    </tr>\n",
              "    <tr>\n",
              "      <th>452</th>\n",
              "      <td>2021-02-10</td>\n",
              "      <td>551419</td>\n",
              "    </tr>\n",
              "    <tr>\n",
              "      <th>444</th>\n",
              "      <td>2021-02-11</td>\n",
              "      <td>248030</td>\n",
              "    </tr>\n",
              "    <tr>\n",
              "      <th>441</th>\n",
              "      <td>2021-02-12</td>\n",
              "      <td>28287</td>\n",
              "    </tr>\n",
              "    <tr>\n",
              "      <th>430</th>\n",
              "      <td>2021-02-15</td>\n",
              "      <td>332146</td>\n",
              "    </tr>\n",
              "    <tr>\n",
              "      <th>429</th>\n",
              "      <td>2021-02-15</td>\n",
              "      <td>6089</td>\n",
              "    </tr>\n",
              "    <tr>\n",
              "      <th>397</th>\n",
              "      <td>2021-02-20</td>\n",
              "      <td>9086</td>\n",
              "    </tr>\n",
              "    <tr>\n",
              "      <th>399</th>\n",
              "      <td>2021-02-20</td>\n",
              "      <td>56086</td>\n",
              "    </tr>\n",
              "    <tr>\n",
              "      <th>388</th>\n",
              "      <td>2021-02-21</td>\n",
              "      <td>328590</td>\n",
              "    </tr>\n",
              "    <tr>\n",
              "      <th>331</th>\n",
              "      <td>2021-03-01</td>\n",
              "      <td>283691</td>\n",
              "    </tr>\n",
              "    <tr>\n",
              "      <th>319</th>\n",
              "      <td>2021-03-02</td>\n",
              "      <td>16265</td>\n",
              "    </tr>\n",
              "    <tr>\n",
              "      <th>325</th>\n",
              "      <td>2021-03-02</td>\n",
              "      <td>14417</td>\n",
              "    </tr>\n",
              "    <tr>\n",
              "      <th>284</th>\n",
              "      <td>2021-03-06</td>\n",
              "      <td>409756</td>\n",
              "    </tr>\n",
              "    <tr>\n",
              "      <th>233</th>\n",
              "      <td>2021-03-14</td>\n",
              "      <td>247187</td>\n",
              "    </tr>\n",
              "    <tr>\n",
              "      <th>234</th>\n",
              "      <td>2021-03-14</td>\n",
              "      <td>76253</td>\n",
              "    </tr>\n",
              "    <tr>\n",
              "      <th>235</th>\n",
              "      <td>2021-03-14</td>\n",
              "      <td>176062</td>\n",
              "    </tr>\n",
              "    <tr>\n",
              "      <th>216</th>\n",
              "      <td>2021-03-16</td>\n",
              "      <td>80826</td>\n",
              "    </tr>\n",
              "    <tr>\n",
              "      <th>208</th>\n",
              "      <td>2021-03-18</td>\n",
              "      <td>49633</td>\n",
              "    </tr>\n",
              "    <tr>\n",
              "      <th>158</th>\n",
              "      <td>2021-03-25</td>\n",
              "      <td>7908</td>\n",
              "    </tr>\n",
              "    <tr>\n",
              "      <th>103</th>\n",
              "      <td>2021-04-01</td>\n",
              "      <td>535373</td>\n",
              "    </tr>\n",
              "    <tr>\n",
              "      <th>55</th>\n",
              "      <td>2021-04-08</td>\n",
              "      <td>4081</td>\n",
              "    </tr>\n",
              "    <tr>\n",
              "      <th>12544</th>\n",
              "      <td>2021-04-15</td>\n",
              "      <td>2439</td>\n",
              "    </tr>\n",
              "    <tr>\n",
              "      <th>12547</th>\n",
              "      <td>2021-04-15</td>\n",
              "      <td>1648</td>\n",
              "    </tr>\n",
              "    <tr>\n",
              "      <th>12534</th>\n",
              "      <td>2021-04-15</td>\n",
              "      <td>310149</td>\n",
              "    </tr>\n",
              "    <tr>\n",
              "      <th>12535</th>\n",
              "      <td>2021-04-15</td>\n",
              "      <td>18615</td>\n",
              "    </tr>\n",
              "    <tr>\n",
              "      <th>12530</th>\n",
              "      <td>2021-04-16</td>\n",
              "      <td>40139</td>\n",
              "    </tr>\n",
              "  </tbody>\n",
              "</table>\n",
              "</div>"
            ],
            "text/plain": [
              "             Date  likes_count\n",
              "3153   2020-04-25         2187\n",
              "2225   2020-07-18        15877\n",
              "1059   2020-11-17          996\n",
              "862    2020-12-20       223227\n",
              "530    2021-02-04       262590\n",
              "525    2021-02-04       777805\n",
              "527    2021-02-04       555730\n",
              "497    2021-02-06         9664\n",
              "486    2021-02-07         7756\n",
              "488    2021-02-07        61150\n",
              "472    2021-02-08        13794\n",
              "480    2021-02-08       791454\n",
              "452    2021-02-10       551419\n",
              "444    2021-02-11       248030\n",
              "441    2021-02-12        28287\n",
              "430    2021-02-15       332146\n",
              "429    2021-02-15         6089\n",
              "397    2021-02-20         9086\n",
              "399    2021-02-20        56086\n",
              "388    2021-02-21       328590\n",
              "331    2021-03-01       283691\n",
              "319    2021-03-02        16265\n",
              "325    2021-03-02        14417\n",
              "284    2021-03-06       409756\n",
              "233    2021-03-14       247187\n",
              "234    2021-03-14        76253\n",
              "235    2021-03-14       176062\n",
              "216    2021-03-16        80826\n",
              "208    2021-03-18        49633\n",
              "158    2021-03-25         7908\n",
              "103    2021-04-01       535373\n",
              "55     2021-04-08         4081\n",
              "12544  2021-04-15         2439\n",
              "12547  2021-04-15         1648\n",
              "12534  2021-04-15       310149\n",
              "12535  2021-04-15        18615\n",
              "12530  2021-04-16        40139"
            ]
          },
          "metadata": {
            "tags": []
          },
          "execution_count": 30
        }
      ]
    },
    {
      "cell_type": "markdown",
      "metadata": {
        "id": "FIng4iJHpDYx"
      },
      "source": [
        "두 코인 관련 트윗의 작성 날짜를 비교하면 비트코인은 2020년 초반부터, 도지코인은 2021년 초반부터 작성하기 시작한 것으로 보인다. 이처럼 도지코인은 비트코인보다 언급된지 얼마 되지 않았지만, 언급된 횟수를 보면 도지코인 관련 언급이 압도적으로 많다."
      ]
    },
    {
      "cell_type": "markdown",
      "metadata": {
        "id": "nQesdyHNGStr"
      },
      "source": [
        "#### 그래프를 활용하여 분석하기\n",
        "- 분석별 결과 내용이 항상 있어야 함\n",
        "- 서로 다른 그래프 3개와 결과 내용\n"
      ]
    },
    {
      "cell_type": "markdown",
      "metadata": {
        "id": "ykHgdV4MyKuQ"
      },
      "source": [
        "일단 비트코인, 도지코인, 테슬라의 가격의 변화 양상을 확인하기 위해 날짜에 따른 가격 그래프를 그려주었다."
      ]
    },
    {
      "cell_type": "code",
      "metadata": {
        "id": "Vz2QlGrkGStr",
        "colab": {
          "base_uri": "https://localhost:8080/",
          "height": 280
        },
        "outputId": "db33e797-77dd-4e6b-c744-2a4ca5781cc6"
      },
      "source": [
        "plt.plot(bc['Date'],bc['Close'])\n",
        "plt.title('비트코인 종가 변화')\n",
        "plt.show()"
      ],
      "execution_count": null,
      "outputs": [
        {
          "output_type": "display_data",
          "data": {
            "image/png": "[encoded data removed]",
            "text/plain": [
              "<Figure size 432x288 with 1 Axes>"
            ]
          },
          "metadata": {
            "tags": [],
            "needs_background": "light"
          }
        }
      ]
    },
    {
      "cell_type": "code",
      "metadata": {
        "colab": {
          "base_uri": "https://localhost:8080/",
          "height": 280
        },
        "id": "c-1Gp-FvAnd_",
        "outputId": "3c5f6399-0a3d-4aa5-a311-87f174ee0985"
      },
      "source": [
        "plt.plot(dc['Date'], dc['Close'])\n",
        "plt.title('도지코인 종가 변화')\n",
        "plt.show()"
      ],
      "execution_count": null,
      "outputs": [
        {
          "output_type": "display_data",
          "data": {
            "image/png": "[encoded data removed]",
            "text/plain": [
              "<Figure size 432x288 with 1 Axes>"
            ]
          },
          "metadata": {
            "tags": [],
            "needs_background": "light"
          }
        }
      ]
    },
    {
      "cell_type": "code",
      "metadata": {
        "colab": {
          "base_uri": "https://localhost:8080/",
          "height": 280
        },
        "id": "Bi9c-Th5ymus",
        "outputId": "d9a54673-02be-4a22-e98e-ffbf89b39d79"
      },
      "source": [
        "plt.plot(tsla_aftr_2020['Date'], tsla_aftr_2020['Close'])\n",
        "plt.title('최근의 테슬라 종가 변화')\n",
        "plt.show()"
      ],
      "execution_count": null,
      "outputs": [
        {
          "output_type": "display_data",
          "data": {
            "image/png": "[encoded data removed]",
            "text/plain": [
              "<Figure size 432x288 with 1 Axes>"
            ]
          },
          "metadata": {
            "tags": [],
            "needs_background": "light"
          }
        }
      ]
    },
    {
      "cell_type": "markdown",
      "metadata": {
        "id": "v2-noT_96EbN"
      },
      "source": [
        "- 비트코인은 2017년부터 증가하기 시작하여 2018년에 고점을 찍고 2019년까지 감소했다. \n",
        " \n",
        " 이후 다시 2020년에서 일정한 구간 내에서 왔다갔다하다가 2021년 가격이 급증했다.\n",
        "\n",
        "- 도지코인은 2021년에 급증하였다.\n",
        "\n",
        "- 테슬라 종가는 서서히 증가했다. \n",
        "\n",
        " **-> 테슬라 종가에서 급격한 변화는 없었기 때문에 머스크의 트위터는 딱히 영향을 안 미쳤을 것이라고 해석했다.**"
      ]
    },
    {
      "cell_type": "markdown",
      "metadata": {
        "id": "f0RRB0McyTMy"
      },
      "source": [
        "도지코인은 2021년 이후에 가격이 급증했기 때문에 2021년 이후의 데이터만 따로 처리하여 그래프를 그려보았다.\n",
        "\n",
        "또한 비트코인도 머스크의 비트코인 관련 트윗이 올라오기 시작한 2020년 이후의 데이터를 처리하여 그래프를 그려보았다."
      ]
    },
    {
      "cell_type": "code",
      "metadata": {
        "colab": {
          "base_uri": "https://localhost:8080/",
          "height": 280
        },
        "id": "6PZ49OSF9cbL",
        "outputId": "af004e69-c02a-4996-928d-68920e5ff697"
      },
      "source": [
        "dc_aftr_2021 = dc[dc['Date'] >= dt.date(2021,1,1)]\n",
        "plt.plot(dc_aftr_2021['Date'], dc_aftr_2021['Close'])\n",
        "plt.title('최근의 도지코인 종가 변화')\n",
        "plt.show()"
      ],
      "execution_count": null,
      "outputs": [
        {
          "output_type": "display_data",
          "data": {
            "image/png": "[encoded data removed]",
            "text/plain": [
              "<Figure size 432x288 with 1 Axes>"
            ]
          },
          "metadata": {
            "tags": [],
            "needs_background": "light"
          }
        }
      ]
    },
    {
      "cell_type": "code",
      "metadata": {
        "colab": {
          "base_uri": "https://localhost:8080/",
          "height": 280
        },
        "id": "H1qYrrl6NCgQ",
        "outputId": "5ce9c390-173a-40c4-ed9e-2210dbcd7a8f"
      },
      "source": [
        "plt.plot(bc_aftr_2020['Date'], bc_aftr_2020['Close'])\n",
        "plt.title('최근의 비트코인 종가 변화')\n",
        "plt.show()"
      ],
      "execution_count": null,
      "outputs": [
        {
          "output_type": "display_data",
          "data": {
            "image/png": "[encoded data removed]",
            "text/plain": [
              "<Figure size 432x288 with 1 Axes>"
            ]
          },
          "metadata": {
            "tags": [],
            "needs_background": "light"
          }
        }
      ]
    },
    {
      "cell_type": "markdown",
      "metadata": {
        "id": "aH9ye4ZFO5B9"
      },
      "source": [
        "비트코인과 도지코인 데이터 모두, 종가가 급증하거나 급감하는 지점들이 눈에 확인된다. "
      ]
    },
    {
      "cell_type": "markdown",
      "metadata": {
        "id": "WmFOfLwOcBOU"
      },
      "source": [
        "일론 머스크의 코인 관련 발언들의 날짜에 해당하는 곳을 점을 찍어서 확인해보기로 했다."
      ]
    },
    {
      "cell_type": "code",
      "metadata": {
        "colab": {
          "base_uri": "https://localhost:8080/",
          "height": 542
        },
        "id": "zmz-1HFHT_GQ",
        "outputId": "07110afa-c7cd-4a6b-d490-71c2674f072b"
      },
      "source": [
        "musk_bc[['Date','likes_count']]"
      ],
      "execution_count": null,
      "outputs": [
        {
          "output_type": "execute_result",
          "data": {
            "text/html": [
              "<div>\n",
              "<style scoped>\n",
              "    .dataframe tbody tr th:only-of-type {\n",
              "        vertical-align: middle;\n",
              "    }\n",
              "\n",
              "    .dataframe tbody tr th {\n",
              "        vertical-align: top;\n",
              "    }\n",
              "\n",
              "    .dataframe thead th {\n",
              "        text-align: right;\n",
              "    }\n",
              "</style>\n",
              "<table border=\"1\" class=\"dataframe\">\n",
              "  <thead>\n",
              "    <tr style=\"text-align: right;\">\n",
              "      <th></th>\n",
              "      <th>Date</th>\n",
              "      <th>likes_count</th>\n",
              "    </tr>\n",
              "  </thead>\n",
              "  <tbody>\n",
              "    <tr>\n",
              "      <th>4095</th>\n",
              "      <td>2020-01-10</td>\n",
              "      <td>3073</td>\n",
              "    </tr>\n",
              "    <tr>\n",
              "      <th>4096</th>\n",
              "      <td>2020-01-10</td>\n",
              "      <td>119632</td>\n",
              "    </tr>\n",
              "    <tr>\n",
              "      <th>3061</th>\n",
              "      <td>2020-05-02</td>\n",
              "      <td>17434</td>\n",
              "    </tr>\n",
              "    <tr>\n",
              "      <th>3063</th>\n",
              "      <td>2020-05-02</td>\n",
              "      <td>5087</td>\n",
              "    </tr>\n",
              "    <tr>\n",
              "      <th>2798</th>\n",
              "      <td>2020-05-16</td>\n",
              "      <td>14939</td>\n",
              "    </tr>\n",
              "    <tr>\n",
              "      <th>2797</th>\n",
              "      <td>2020-05-16</td>\n",
              "      <td>9674</td>\n",
              "    </tr>\n",
              "    <tr>\n",
              "      <th>2207</th>\n",
              "      <td>2020-07-19</td>\n",
              "      <td>9374</td>\n",
              "    </tr>\n",
              "    <tr>\n",
              "      <th>1081</th>\n",
              "      <td>2020-11-17</td>\n",
              "      <td>66188</td>\n",
              "    </tr>\n",
              "    <tr>\n",
              "      <th>863</th>\n",
              "      <td>2020-12-20</td>\n",
              "      <td>140112</td>\n",
              "    </tr>\n",
              "    <tr>\n",
              "      <th>871</th>\n",
              "      <td>2020-12-20</td>\n",
              "      <td>239982</td>\n",
              "    </tr>\n",
              "    <tr>\n",
              "      <th>410</th>\n",
              "      <td>2021-02-19</td>\n",
              "      <td>35319</td>\n",
              "    </tr>\n",
              "    <tr>\n",
              "      <th>411</th>\n",
              "      <td>2021-02-19</td>\n",
              "      <td>27738</td>\n",
              "    </tr>\n",
              "    <tr>\n",
              "      <th>244</th>\n",
              "      <td>2021-03-12</td>\n",
              "      <td>245163</td>\n",
              "    </tr>\n",
              "    <tr>\n",
              "      <th>162</th>\n",
              "      <td>2021-03-24</td>\n",
              "      <td>141418</td>\n",
              "    </tr>\n",
              "    <tr>\n",
              "      <th>164</th>\n",
              "      <td>2021-03-24</td>\n",
              "      <td>902515</td>\n",
              "    </tr>\n",
              "    <tr>\n",
              "      <th>163</th>\n",
              "      <td>2021-03-24</td>\n",
              "      <td>179638</td>\n",
              "    </tr>\n",
              "  </tbody>\n",
              "</table>\n",
              "</div>"
            ],
            "text/plain": [
              "            Date  likes_count\n",
              "4095  2020-01-10         3073\n",
              "4096  2020-01-10       119632\n",
              "3061  2020-05-02        17434\n",
              "3063  2020-05-02         5087\n",
              "2798  2020-05-16        14939\n",
              "2797  2020-05-16         9674\n",
              "2207  2020-07-19         9374\n",
              "1081  2020-11-17        66188\n",
              "863   2020-12-20       140112\n",
              "871   2020-12-20       239982\n",
              "410   2021-02-19        35319\n",
              "411   2021-02-19        27738\n",
              "244   2021-03-12       245163\n",
              "162   2021-03-24       141418\n",
              "164   2021-03-24       902515\n",
              "163   2021-03-24       179638"
            ]
          },
          "metadata": {
            "tags": []
          },
          "execution_count": 36
        }
      ]
    },
    {
      "cell_type": "markdown",
      "metadata": {
        "id": "xjHJ-mZBUbmb"
      },
      "source": [
        "위에서 볼 수 있듯이 일론 머스크가 하루에 여러번 비트코인을 언급한 날도 있기 때문에 likes_count_bydate 라는 항목을 추가하여 여러번 올린 날은 해당 게시글들의 좋아요 수를 모두 합쳤다."
      ]
    },
    {
      "cell_type": "code",
      "metadata": {
        "colab": {
          "base_uri": "https://localhost:8080/"
        },
        "id": "hjru_up1WVA0",
        "outputId": "3f71fcaf-0938-4e15-a440-0bf12325efba"
      },
      "source": [
        "musk_bc.value_counts('Date')"
      ],
      "execution_count": null,
      "outputs": [
        {
          "output_type": "execute_result",
          "data": {
            "text/plain": [
              "Date\n",
              "2021-03-24    3\n",
              "2021-02-19    2\n",
              "2020-12-20    2\n",
              "2020-05-16    2\n",
              "2020-05-02    2\n",
              "2020-01-10    2\n",
              "2021-03-12    1\n",
              "2020-11-17    1\n",
              "2020-07-19    1\n",
              "dtype: int64"
            ]
          },
          "metadata": {
            "tags": []
          },
          "execution_count": 37
        }
      ]
    },
    {
      "cell_type": "code",
      "metadata": {
        "colab": {
          "base_uri": "https://localhost:8080/"
        },
        "id": "aIKxrn7NVDs3",
        "outputId": "e83442f0-3dd8-4f95-c134-6973df32a429"
      },
      "source": [
        "likes_count = []\n",
        "musk_bc = musk_bc.reset_index()\n",
        "for i in range(16):\n",
        "  likes_count.append(musk_bc['likes_count'][i])\n",
        "likes_count"
      ],
      "execution_count": null,
      "outputs": [
        {
          "output_type": "execute_result",
          "data": {
            "text/plain": [
              "[3073,\n",
              " 119632,\n",
              " 17434,\n",
              " 5087,\n",
              " 14939,\n",
              " 9674,\n",
              " 9374,\n",
              " 66188,\n",
              " 140112,\n",
              " 239982,\n",
              " 35319,\n",
              " 27738,\n",
              " 245163,\n",
              " 141418,\n",
              " 902515,\n",
              " 179638]"
            ]
          },
          "metadata": {
            "tags": []
          },
          "execution_count": 38
        }
      ]
    },
    {
      "cell_type": "code",
      "metadata": {
        "colab": {
          "base_uri": "https://localhost:8080/"
        },
        "id": "rXV4wMpHZZv_",
        "outputId": "059289ad-5bbc-45f3-ad4b-3856caab1e01"
      },
      "source": [
        "import numpy as np\n",
        "likes_per_day_list = [likes_count[0] + likes_count[1], likes_count[2] + likes_count[3], likes_count[4] + likes_count[5], likes_count[6], likes_count[7], likes_count[8] + likes_count[9], likes_count[10] + likes_count[11], likes_count[12], likes_count[13] + likes_count[14] + likes_count[15]]\n",
        "likes_per_day_np = np.array(likes_per_day_list)\n",
        "likes_per_day_np"
      ],
      "execution_count": null,
      "outputs": [
        {
          "output_type": "execute_result",
          "data": {
            "text/plain": [
              "array([ 122705,   22521,   24613,    9374,   66188,  380094,   63057,\n",
              "        245163, 1223571])"
            ]
          },
          "metadata": {
            "tags": []
          },
          "execution_count": 39
        }
      ]
    },
    {
      "cell_type": "code",
      "metadata": {
        "colab": {
          "base_uri": "https://localhost:8080/",
          "height": 280
        },
        "id": "InmroiPj5DUl",
        "outputId": "72827314-70a8-4373-b757-4f3a596c34bb"
      },
      "source": [
        "date = musk_bc['Date']\n",
        "bc_musktweeted = bc_aftr_2020[bc_aftr_2020['Date'].isin(date) == True]\n",
        "plt.scatter(bc_musktweeted['Date'], bc_musktweeted['Close'], alpha = 0.5, s = likes_per_day_np/2000, c = likes_per_day_np/2000, cmap ='Purples', edgecolors = 'black' )\n",
        "plt.colorbar()\n",
        "plt.title('일론 머스크의 비트코인 관련 언급 날짜와 좋아요 수')\n",
        "plt.show()"
      ],
      "execution_count": null,
      "outputs": [
        {
          "output_type": "display_data",
          "data": {
            "image/png": "[encoded data removed]",
            "text/plain": [
              "<Figure size 432x288 with 2 Axes>"
            ]
          },
          "metadata": {
            "tags": [],
            "needs_background": "light"
          }
        }
      ]
    },
    {
      "cell_type": "code",
      "metadata": {
        "colab": {
          "base_uri": "https://localhost:8080/",
          "height": 280
        },
        "id": "KQtm9Hhzb6if",
        "outputId": "49a3961e-c952-4e71-e832-074017622f08"
      },
      "source": [
        "plt.plot(bc_aftr_2020['Date'], bc_aftr_2020['Close'])\n",
        "plt.scatter(bc_musktweeted['Date'], bc_musktweeted['Close'], c = likes_per_day_np, s = likes_per_day_np/2000, cmap ='Purples', edgecolors = 'black' )\n",
        "plt.title('일론 머스크의 비트코인 관련 언급 날짜와 좋아요 수 그리고 종가')\n",
        "plt.show()"
      ],
      "execution_count": null,
      "outputs": [
        {
          "output_type": "display_data",
          "data": {
            "image/png": "[encoded data removed]",
            "text/plain": [
              "<Figure size 432x288 with 1 Axes>"
            ]
          },
          "metadata": {
            "tags": [],
            "needs_background": "light"
          }
        }
      ]
    },
    {
      "cell_type": "markdown",
      "metadata": {
        "id": "5uqPAoR7ePW4"
      },
      "source": [
        "2020년 초반 부분은 큰 관련이 없어 보였다. 따라서 2020년 7월 이후의 그래프를 확인해보았다."
      ]
    },
    {
      "cell_type": "code",
      "metadata": {
        "colab": {
          "base_uri": "https://localhost:8080/",
          "height": 280
        },
        "id": "HbZ1KK5ueahZ",
        "outputId": "7ed29df5-0898-42f0-a38d-b060b11224ca"
      },
      "source": [
        "plt.plot(bc_aftr_2020['Date'], bc_aftr_2020['Close'])\n",
        "plt.scatter(bc_musktweeted['Date'], bc_musktweeted['Close'], c = likes_per_day_np, s = likes_per_day_np/2000, cmap ='Purples', edgecolors = 'black' )\n",
        "plt.title('일론 머스크의 비트코인 관련 언급 날짜와 좋아요 수 그리고 종가')\n",
        "plt.axis([dt.date(2020,7,1),dt.date(2020,8,1),7500,12000])\n",
        "plt.show()"
      ],
      "execution_count": null,
      "outputs": [
        {
          "output_type": "display_data",
          "data": {
            "image/png": "[encoded data removed]",
            "text/plain": [
              "<Figure size 432x288 with 1 Axes>"
            ]
          },
          "metadata": {
            "tags": [],
            "needs_background": "light"
          }
        }
      ]
    },
    {
      "cell_type": "code",
      "metadata": {
        "colab": {
          "base_uri": "https://localhost:8080/",
          "height": 280
        },
        "id": "h_jH8l8SfMOC",
        "outputId": "a7a0cde4-a9a7-4b49-da91-9d3ad30f5cd6"
      },
      "source": [
        "plt.plot(bc_aftr_2020['Date'], bc_aftr_2020['Close'])\n",
        "plt.scatter(bc_musktweeted['Date'], bc_musktweeted['Close'], c = likes_per_day_np, s = likes_per_day_np/2000, cmap ='Purples', edgecolors = 'black' )\n",
        "plt.title('일론 머스크의 비트코인 관련 언급 날짜와 좋아요 수 그리고 종가')\n",
        "plt.axis([dt.date(2020,11,1),dt.date(2020,12,1),10000,20000])\n",
        "plt.show()"
      ],
      "execution_count": null,
      "outputs": [
        {
          "output_type": "display_data",
          "data": {
            "image/png": "[encoded data removed]",
            "text/plain": [
              "<Figure size 432x288 with 1 Axes>"
            ]
          },
          "metadata": {
            "tags": [],
            "needs_background": "light"
          }
        }
      ]
    },
    {
      "cell_type": "markdown",
      "metadata": {
        "id": "ZiZNxrY2gV4v"
      },
      "source": [
        "2020/7/19 2020/11/17의 비트코인 발언은 딱히 영향이 없었던 것 같다."
      ]
    },
    {
      "cell_type": "code",
      "metadata": {
        "colab": {
          "base_uri": "https://localhost:8080/",
          "height": 333
        },
        "id": "oQl2rFYpfWdz",
        "outputId": "5947df51-acde-4404-9591-657eddf0c25d"
      },
      "source": [
        "plt.plot(bc_aftr_2020['Date'], bc_aftr_2020['Close'])\n",
        "plt.scatter(bc_musktweeted['Date'], bc_musktweeted['Close'], c = likes_per_day_np, s = likes_per_day_np/2000, cmap ='Purples', edgecolors = 'black' )\n",
        "plt.title('일론 머스크의 비트코인 관련 언급 날짜와 좋아요 수 그리고 종가')\n",
        "plt.axis([dt.date(2020,12,1),dt.date(2021,1,1),15000,30000])\n",
        "print(musk_bc[musk_bc['Date'] == dt.date(2020,12,20)]['tweet'])\n",
        "plt.show()"
      ],
      "execution_count": null,
      "outputs": [
        {
          "output_type": "stream",
          "text": [
            "8    Bitcoin is almost as bs as fiat money\n",
            "9                  Bitcoin is my safe word\n",
            "Name: tweet, dtype: object\n"
          ],
          "name": "stdout"
        },
        {
          "output_type": "display_data",
          "data": {
            "image/png": "[encoded data removed]",
            "text/plain": [
              "<Figure size 432x288 with 1 Axes>"
            ]
          },
          "metadata": {
            "tags": [],
            "needs_background": "light"
          }
        }
      ]
    },
    {
      "cell_type": "markdown",
      "metadata": {
        "id": "AYMFdMERjTZj"
      },
      "source": [
        "2020/12/20\n",
        "\n",
        "이 날 머스크의 트윗과 함께 비트코인이 떨어졌는데, 머스크의 '비트코인은 불환 지폐만큼 bull shxx이다'라는 비트코인을 까는 트윗을 올렸었다.\n",
        "\n",
        "또한 비트코인에 꽂혔다라는 글도 올렸었는데, 관련 정보를 더 찾아보니 해당 글의 댓글에 '농담이다'라고 했다 한다.\n",
        "\n",
        "결론적으로 이 날 비트코인을 까는 트윗을 작성했고, 비트코인이 미약하긴 하지만 떨어졌다."
      ]
    },
    {
      "cell_type": "code",
      "metadata": {
        "colab": {
          "base_uri": "https://localhost:8080/",
          "height": 333
        },
        "id": "V9XaX1wBfki3",
        "outputId": "5c9289fb-aaec-49ab-e0fc-26a9b33ff06c"
      },
      "source": [
        "plt.plot(bc_aftr_2020['Date'], bc_aftr_2020['Close'])\n",
        "plt.scatter(bc_musktweeted['Date'], bc_musktweeted['Close'], c = likes_per_day_np, s = likes_per_day_np/2000, cmap ='Purples', edgecolors = 'black' )\n",
        "plt.title('일론 머스크의 비트코인 관련 언급 날짜와 좋아요 수 그리고 종가')\n",
        "plt.axis([dt.date(2021,2,1),dt.date(2021,3,1),30000,60000])\n",
        "print(musk_bc[musk_bc['Date'] == dt.date(2021,2,19)]['tweet'])\n",
        "plt.show()"
      ],
      "execution_count": null,
      "outputs": [
        {
          "output_type": "stream",
          "text": [
            "10    @business To be clear, I am *not* an investor,...\n",
            "11    @business Tesla’s action is not directly refle...\n",
            "Name: tweet, dtype: object\n"
          ],
          "name": "stdout"
        },
        {
          "output_type": "display_data",
          "data": {
            "image/png": "[encoded data removed]",
            "text/plain": [
              "<Figure size 432x288 with 1 Axes>"
            ]
          },
          "metadata": {
            "tags": [],
            "needs_background": "light"
          }
        }
      ]
    },
    {
      "cell_type": "markdown",
      "metadata": {
        "id": "7S1-VqN9lroI"
      },
      "source": [
        "2021/2/19\n",
        "\n",
        "일론 머스크는 자신의 발언 중 하나인 '비트코인은 거의 불환 지폐만큼 bull shxx이다'의 핵심은 '거의'라는 트윗을 올렸다. 또한 '비트코인에 투자하는 것은 좋은 모험이다'라는 트윗도 같은 날에 올렸다.\n",
        "\n",
        "그래프를 보면 비트코인 가격이 상승한 것을 볼 수 있다. "
      ]
    },
    {
      "cell_type": "code",
      "metadata": {
        "colab": {
          "base_uri": "https://localhost:8080/",
          "height": 315
        },
        "id": "tuC1cUBunKkO",
        "outputId": "5e96539f-3b81-45a5-e07a-91f1be38d7dc"
      },
      "source": [
        "plt.plot(bc_aftr_2020['Date'], bc_aftr_2020['Close'])\n",
        "plt.scatter(bc_musktweeted['Date'], bc_musktweeted['Close'], c = likes_per_day_np, s = likes_per_day_np/2000, cmap ='Purples', edgecolors = 'black' )\n",
        "plt.title('일론 머스크의 비트코인 관련 언급 날짜와 좋아요 수 그리고 종가')\n",
        "plt.axis([dt.date(2021,3,1),dt.date(2021,3,15),40000,70000])\n",
        "print(musk_bc[musk_bc['Date'] == dt.date(2021,3,12)]['tweet'])\n",
        "plt.show()"
      ],
      "execution_count": null,
      "outputs": [
        {
          "output_type": "stream",
          "text": [
            "12    BTC (Bitcoin) is an anagram of TBC(The Boring ...\n",
            "Name: tweet, dtype: object\n"
          ],
          "name": "stdout"
        },
        {
          "output_type": "display_data",
          "data": {
            "image/png": "[encoded data removed]",
            "text/plain": [
              "<Figure size 432x288 with 1 Axes>"
            ]
          },
          "metadata": {
            "tags": [],
            "needs_background": "light"
          }
        }
      ]
    },
    {
      "cell_type": "markdown",
      "metadata": {
        "id": "svL3uOPGnaQn"
      },
      "source": [
        "2021/3/12\n",
        "머스크는 '비트코인(BTC)는 지루한 기업(TBC: The Boring Company)의 순서를 뒤바꾼 것이다. 정말 우연의 일치네!'라는 별 의미 없는 농담 트윗을 올린다. 때문에 좋아요는 전보다 많이 받았지만 별로 영향을 주진 않은 것 같다."
      ]
    },
    {
      "cell_type": "code",
      "metadata": {
        "id": "sus21wu9n36L",
        "colab": {
          "base_uri": "https://localhost:8080/",
          "height": 350
        },
        "outputId": "66187a0b-3976-4993-d97e-bb99499270d7"
      },
      "source": [
        "plt.plot(bc_aftr_2020['Date'], bc_aftr_2020['Close'])\n",
        "plt.scatter(bc_musktweeted['Date'], bc_musktweeted['Close'], c = likes_per_day_np, s = likes_per_day_np/2000, cmap ='Purples', edgecolors = 'black' )\n",
        "plt.title('일론 머스크의 비트코인 관련 언급 날짜와 좋아요 수 그리고 종가')\n",
        "plt.axis([dt.date(2021,3,13),dt.date(2021,6,1),40000,70000])\n",
        "print(musk_bc[musk_bc['Date'] == dt.date(2021,3,24)]['tweet'])\n",
        "plt.show()"
      ],
      "execution_count": null,
      "outputs": [
        {
          "output_type": "stream",
          "text": [
            "13    Pay by Bitcoin capability available outside US...\n",
            "14                 You can now buy a Tesla with Bitcoin\n",
            "15    Tesla is using only internal &amp; open source...\n",
            "Name: tweet, dtype: object\n"
          ],
          "name": "stdout"
        },
        {
          "output_type": "display_data",
          "data": {
            "image/png": "[encoded data removed]",
            "text/plain": [
              "<Figure size 432x288 with 1 Axes>"
            ]
          },
          "metadata": {
            "tags": [],
            "needs_background": "light"
          }
        }
      ]
    },
    {
      "cell_type": "markdown",
      "metadata": {
        "id": "LqkaEKQMqb2i"
      },
      "source": [
        "2021/3/24\n",
        "빠르게 그리고 꾸준히 하락 증세를 보이던 비트코인은, 머스크의 테슬라로 이제 비트코인을 살 수 있다 라는 언급으로 가격이 다시 오르기 시작했다. 비트코인 데이터는 4월 즈음의 데이터까지 밖에 없어서 추후의 양상은 확인하기 어려울 것 같다.\n",
        "\n",
        "하지만 빠른 하락증세를 보이던 비트코인이 빠르게 상승했기 때문에 영향이 있다고 할 수 있을 것 같다."
      ]
    },
    {
      "cell_type": "markdown",
      "metadata": {
        "id": "whb9RO19q_SM"
      },
      "source": [
        "그렇다면 도지코인은 어떤 영향을 받았을까? 똑같이 확인해보았다."
      ]
    },
    {
      "cell_type": "code",
      "metadata": {
        "colab": {
          "base_uri": "https://localhost:8080/",
          "height": 280
        },
        "id": "JuaC3RgrrFNr",
        "outputId": "d0504663-cb0c-40d9-d014-401603ae0d77"
      },
      "source": [
        "date = musk_dc['Date']\n",
        "dc_musktweeted = dc_aftr_2020[dc_aftr_2020['Date'].isin(date) == True]\n",
        "plt.scatter(dc_musktweeted['Date'], dc_musktweeted['Close'], alpha = 0.5, color ='purple', edgecolors = 'black' )\n",
        "plt.title('일론 머스크의 도지코인 관련 언급 날짜')\n",
        "plt.show()"
      ],
      "execution_count": null,
      "outputs": [
        {
          "output_type": "display_data",
          "data": {
            "image/png": "[encoded data removed]",
            "text/plain": [
              "<Figure size 432x288 with 1 Axes>"
            ]
          },
          "metadata": {
            "tags": [],
            "needs_background": "light"
          }
        }
      ]
    },
    {
      "cell_type": "markdown",
      "metadata": {
        "id": "LnLm_T5drYci"
      },
      "source": [
        "2021년 3월에 굉장히 많은 언급을 했음을 알 수 있다. 이제 이를 도지코인의 종가 그래프와 겹쳐보자."
      ]
    },
    {
      "cell_type": "code",
      "metadata": {
        "colab": {
          "base_uri": "https://localhost:8080/",
          "height": 280
        },
        "id": "2DOYmxJPrfyb",
        "outputId": "28bfb2bc-20f4-4901-8653-5a5a871bf1f6"
      },
      "source": [
        "plt.scatter(dc_musktweeted['Date'], dc_musktweeted['Close'], alpha = 0.5, color ='purple', edgecolors = 'black' )\n",
        "plt.plot(dc_aftr_2020['Date'], dc_aftr_2020['Close'])\n",
        "plt.title('일론 머스크의 도지코인 관련 언급 날짜와 종가')\n",
        "plt.show()"
      ],
      "execution_count": null,
      "outputs": [
        {
          "output_type": "display_data",
          "data": {
            "image/png": "[encoded data removed]",
            "text/plain": [
              "<Figure size 432x288 with 1 Axes>"
            ]
          },
          "metadata": {
            "tags": [],
            "needs_background": "light"
          }
        }
      ]
    },
    {
      "cell_type": "markdown",
      "metadata": {
        "id": "LH-1Zrllt7LK"
      },
      "source": [
        "끝의 3개의 점이 굉장히 큰 영향을 미친 것 같아서 따로 확인해주기로 했다."
      ]
    },
    {
      "cell_type": "code",
      "metadata": {
        "colab": {
          "base_uri": "https://localhost:8080/",
          "height": 280
        },
        "id": "MHhk2tH_t_cO",
        "outputId": "a15ed421-7f89-49b6-80b5-947fb9f98932"
      },
      "source": [
        "plt.scatter(dc_musktweeted['Date'], dc_musktweeted['Close'], alpha = 0.5, color ='purple', edgecolors = 'black' )\n",
        "plt.plot(dc_aftr_2020['Date'], dc_aftr_2020['Close'])\n",
        "plt.axis([dt.date(2021,4,5),dt.date(2021,7,1),0,0.7])\n",
        "plt.title('일론 머스크의 최근 3번의 도지코인 관련 언급 종가')\n",
        "plt.show()"
      ],
      "execution_count": null,
      "outputs": [
        {
          "output_type": "display_data",
          "data": {
            "image/png": "[encoded data removed]",
            "text/plain": [
              "<Figure size 432x288 with 1 Axes>"
            ]
          },
          "metadata": {
            "tags": [],
            "needs_background": "light"
          }
        }
      ]
    },
    {
      "cell_type": "markdown",
      "metadata": {
        "id": "J31iiTKEsKyO"
      },
      "source": [
        "마지막에서 3번째의 점을 보면, 머스크의 발언이 도지코인의 급상승을 시작시켰음을 알 수 있고, 마지막에서 2번째의 점에서는 머스크의 발언이 이를 가속화 했음을, 마지막 발언에서는 급하락을 유발했다는 것을 알 수 있다. 이것만 봐도 굉장히 많은 영향을 미쳤다는 것을 금방 알 수 있지만, 3월 즈음의 수많은 도지 언급에 관한 부분도 확인해보기로 했다."
      ]
    },
    {
      "cell_type": "code",
      "metadata": {
        "colab": {
          "base_uri": "https://localhost:8080/",
          "height": 280
        },
        "id": "s4-Rl5_Nsllk",
        "outputId": "44aaeb81-f86c-44ad-c307-57a260577794"
      },
      "source": [
        "plt.scatter(dc_musktweeted['Date'], dc_musktweeted['Close'], alpha = 0.5, color ='purple', edgecolors = 'black' )\n",
        "plt.plot(dc_aftr_2020['Date'], dc_aftr_2020['Close'])\n",
        "plt.axis([dt.date(2021,2,1),dt.date(2021,4,15),0.02,0.1])\n",
        "plt.title('2021년 3월 즈음의 일론 머스크의 도지코인 관련 언급과 종가')\n",
        "plt.show()"
      ],
      "execution_count": null,
      "outputs": [
        {
          "output_type": "display_data",
          "data": {
            "image/png": "[encoded data removed]",
            "text/plain": [
              "<Figure size 432x288 with 1 Axes>"
            ]
          },
          "metadata": {
            "tags": [],
            "needs_background": "light"
          }
        }
      ]
    },
    {
      "cell_type": "markdown",
      "metadata": {
        "id": "FPe3yxwQtKCw"
      },
      "source": [
        "앞의 8개의 점들이 순서대로 하락, 상승, 상승 중지, 하락, 하락 중지, 하락 중지, 하락, 하락을 유도했음을 확인 했다. \n",
        "\n",
        "해당 날들의 머스크가 도지를 언급한 날에 종가의 증감이 변화하는 점들이 많다라는 점을 바탕으로 보았을 때 머스크의 발언이 자잘자잘하게 3월 부근에서 영향을 미쳤다고 할 수 있을 것 같다."
      ]
    },
    {
      "cell_type": "markdown",
      "metadata": {
        "id": "OwvTG3p5GStr"
      },
      "source": [
        "## 4. 결론\n",
        "- 질문에 대한 답\n",
        "- 알게된 점 등"
      ]
    },
    {
      "cell_type": "markdown",
      "metadata": {
        "id": "hp-t23blu1kQ"
      },
      "source": [
        "일론 머스크의 코인 관련 언급은 테슬라 주식에는 큰 영향을 미치지 않은 것으로 보이며, 대신 코인에는 영향을 미친 부분이 확실히 있음을 확인했다. 2020년 초반부터 비트코인은 꾸준한 언급을 하였고, 2020년 중반 이후 부터 영향을 미쳤다. 그에 비해 도지코인은 2021년 초반부터 언급을 수많이 하기 시작했으며, 그로 인해 비트코인과 비교해 보았을 때에도 매우 큰 영향을 미쳤다. 확실히 영향력 있는 한 사람의 언급이 사회에 큰 영향을 미친다는 것을 알 수 있었던 것 같다. 이번 프로젝트를 통해 다양한 코드들과 그래프를 이용해 데이터를 분석하고 답을 얻어내는 과정에 대해 잘 학습할 수 있었던 것 같다."
      ]
    },
    {
      "cell_type": "code",
      "metadata": {
        "id": "0tpAoDzqv_Zd"
      },
      "source": [
        ""
      ],
      "execution_count": null,
      "outputs": []
    }
  ]
}